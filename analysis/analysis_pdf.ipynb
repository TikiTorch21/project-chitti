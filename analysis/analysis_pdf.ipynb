{
 "cells": [
  {
   "cell_type": "code",
   "execution_count": 47,
   "id": "66b6f798",
   "metadata": {},
   "outputs": [],
   "source": [
    "from pathlib import Path\n",
    "import pandas as pd\n",
    "import numpy as np \n",
    "import matplotlib.pyplot as plt\n",
    "import seaborn as sns"
   ]
  },
  {
   "cell_type": "code",
   "execution_count": 8,
   "id": "88e03c89",
   "metadata": {},
   "outputs": [],
   "source": [
    "csv_path = Path('/Users/prateekM/Desktop/1_Projects/Project Chitti/data/text extractions/final_consolidated.csv')"
   ]
  },
  {
   "cell_type": "code",
   "execution_count": 9,
   "id": "710d492e-4e33-4861-8285-6f50e339044b",
   "metadata": {},
   "outputs": [],
   "source": [
    "df = pd.read_csv(csv_path)\n",
    "df.drop(df.columns[0], axis=1, inplace=True)"
   ]
  },
  {
   "cell_type": "code",
   "execution_count": 10,
   "id": "f56a6de8-97bc-4c80-ac78-d3b6d622ed5d",
   "metadata": {},
   "outputs": [
    {
     "data": {
      "application/vnd.microsoft.datawrangler.viewer.v0+json": {
       "columns": [
        {
         "name": "index",
         "rawType": "int64",
         "type": "integer"
        },
        {
         "name": "pageNumber_pypdf",
         "rawType": "float64",
         "type": "float"
        },
        {
         "name": "pdfId_pypdf",
         "rawType": "object",
         "type": "string"
        },
        {
         "name": "pageContent_pypdf",
         "rawType": "object",
         "type": "string"
        },
        {
         "name": "extractionTimeSeconds_pypdf",
         "rawType": "float64",
         "type": "float"
        },
        {
         "name": "pageContent_pymupdf",
         "rawType": "object",
         "type": "string"
        },
        {
         "name": "extractionTimeSeconds_pymupdf",
         "rawType": "float64",
         "type": "float"
        },
        {
         "name": "pageContent_pdfminer",
         "rawType": "object",
         "type": "string"
        },
        {
         "name": "extractionTimeSeconds_pdfminer",
         "rawType": "float64",
         "type": "float"
        },
        {
         "name": "pdfId",
         "rawType": "object",
         "type": "string"
        },
        {
         "name": "text",
         "rawType": "object",
         "type": "string"
        },
        {
         "name": "pypdf_bleu",
         "rawType": "float64",
         "type": "float"
        },
        {
         "name": "pypdf_jaccard",
         "rawType": "float64",
         "type": "float"
        },
        {
         "name": "pypdf_levenshtein",
         "rawType": "int64",
         "type": "integer"
        },
        {
         "name": "pymupdf_bleu",
         "rawType": "float64",
         "type": "float"
        },
        {
         "name": "pymupdf_jaccard",
         "rawType": "float64",
         "type": "float"
        },
        {
         "name": "pymupdf_levenshtein",
         "rawType": "int64",
         "type": "integer"
        },
        {
         "name": "pdfminer_bleu",
         "rawType": "float64",
         "type": "float"
        },
        {
         "name": "pdfminer_jaccard",
         "rawType": "float64",
         "type": "float"
        },
        {
         "name": "pdfminer_levenshtein",
         "rawType": "int64",
         "type": "integer"
        }
       ],
       "ref": "4fa5754d-7fc0-447a-9c69-670a11d32522",
       "rows": [
        [
         "50",
         "19.0",
         "matplotlib_1-21_pdf.pdf ~ 19",
         "Matplotlib, Release 2.0.2\n0.0 0.5 1.0 1.5 2.0 2.5 3.0\n1.0\n1.5\n2.0\n2.5\n3.0\n3.5\n4.0some numbers\nYou may be wondering why the x-axis ranges from 0-3 and the y-axis from 1-4. If you provide a single\nlist or array to the plot() command, matplotlib assumes it is a sequence of y values, and automatically\ngenerates the x values for you. Since python ranges start with 0, the default x vector has the same length as\ny but starts with 0. Hence the x data are [0,1,2,3].\nplot() is a versatile command, and will take an arbitrary number of arguments. For example, to plot x\nversus y, you can issue the command:\nplt.plot([1, 2, 3, 4], [1, 4, 9, 16])\nFor every x, y pair of arguments, there is an optional third argument which is the format string that indicates\nthe color and line type of the plot. The letters and symbols of the format string are from MATLAB, and you\nconcatenate a color string with a line style string. The default format string is ‘b-‘, which is a solid blue line.\nFor example, to plot the above with red circles, you would issue\nimport matplotlib.pyplot as plt\nplt.plot([1,2,3,4], [1,4,9,16], 'ro')\nplt.axis([0, 6, 0, 20])\nplt.show()\n12 Chapter 3. Tutorials",
         "0.0073280334472656",
         "Matplotlib, Release 2.0.2\n0.0\n0.5\n1.0\n1.5\n2.0\n2.5\n3.0\n1.0\n1.5\n2.0\n2.5\n3.0\n3.5\n4.0\nsome numbers\nYou may be wondering why the x-axis ranges from 0-3 and the y-axis from 1-4. If you provide a single\nlist or array to the plot() command, matplotlib assumes it is a sequence of y values, and automatically\ngenerates the x values for you. Since python ranges start with 0, the default x vector has the same length as\ny but starts with 0. Hence the x data are [0,1,2,3].\nplot() is a versatile command, and will take an arbitrary number of arguments. For example, to plot x\nversus y, you can issue the command:\nplt.plot([1, 2, 3, 4], [1, 4, 9, 16])\nFor every x, y pair of arguments, there is an optional third argument which is the format string that indicates\nthe color and line type of the plot. The letters and symbols of the format string are from MATLAB, and you\nconcatenate a color string with a line style string. The default format string is ‘b-‘, which is a solid blue line.\nFor example, to plot the above with red circles, you would issue\nimport matplotlib.pyplot as plt\nplt.plot([1,2,3,4], [1,4,9,16], 'ro')\nplt.axis([0, 6, 0, 20])\nplt.show()\n12\nChapter 3. Tutorials\n",
         "0.0014421939849853",
         "Matplotlib, Release 2.0.2\n0.0 0.5 1.0 1.5 2.0 2.5 3.0\n1.0\n1.5\n2.0\n2.5\n3.0\n3.5\n4.0some numbers\nYou may be wondering why the x-axis ranges from 0-3 and the y-axis from 1-4. If you provide a single\nlist or array to the plot() command, matplotlib assumes it is a sequence of y values, and automatically\ngenerates the x values for you. Since python ranges start with 0, the default x vector has the same length as\ny but starts with 0. Hence the x data are [0,1,2,3].\nplot() is a versatile command, and will take an arbitrary number of arguments. For example, to plot x\nversus y, you can issue the command:\nplt.plot([1, 2, 3, 4], [1, 4, 9, 16])\nFor every x, y pair of arguments, there is an optional third argument which is the format string that indicates\nthe color and line type of the plot. The letters and symbols of the format string are from MATLAB, and you\nconcatenate a color string with a line style string. The default format string is ‘b-‘, which is a solid blue line.\nFor example, to plot the above with red circles, you would issue\nimport matplotlib.pyplot as plt\nplt.plot([1,2,3,4], [1,4,9,16], 'ro')\nplt.axis([0, 6, 0, 20])\nplt.show()\n12 Chapter 3. Tutorials",
         "0.0066769123077392",
         "matplotlib_1-21_pdf.pdf ~ 19",
         "\nCHAPTER THREE\nTUTORIALS\n 3.1 Introductory 3.1.1 Pyplot tutorial\n    import matplotlib.pyplot as plt plt.plot([1,2,3,4]) plt.ylabel('some numbers') plt.show()\n  11\n",
         "0.0111712680049336",
         "0.0333333333333333",
         "1047",
         "0.0111181963473793",
         "0.0331125827814569",
         "1048",
         "0.0111712680049336",
         "0.0333333333333333",
         "1047"
        ],
        [
         "46",
         "15.0",
         "matplotlib_1-21_pdf.pdf ~ 15",
         "Matplotlib, Release 2.0.2\ntk 8.3 or later, not 8.6.0 or 8.6.1 The TCL/Tk widgets library used by the TkAgg backend.\nVersions 8.6.0 and 8.6.1 are known to have issues that may result in segfaults when closing multiple\nwindows in the wrong order.\npyqt 4.4 or later The Qt4 widgets library python wrappers for the Qt4Agg backend\npygtk 2.4 or later The python wrappers for the GTK widgets library for use with the GTK or GTKAgg\nbackend\nwxpython 2.8 or later The python wrappers for the wx widgets library for use with the WX or WXAgg\nbackend\nOptional external programs\nﬀmpeg/avconv or mencoder Required for the animation module to be save out put to movie formats.\nImageMagick Required for the animation module to be able to save to animated gif.\nOptional dependencies\nPillow If Pillow is installed, matplotlib can read and write a larger selection of image ﬁle formats.\npkg-conﬁg A tool used to ﬁnd required non-python libraries. This is not strictly required, but can make\ninstallation go more smoothly if the libraries and headers are not in the expected locations.\nRequired libraries that ship with matplotlib\nagg 2.4 The antigrain C++ rendering engine. matplotlib links against the agg template source statically, so\nit will not aﬀect anything on your system outside of matplotlib.\nqhull 2012.1 A library for computing Delaunay triangulations.\nttconv truetype font utility\n2.2.2 Building on Linux\nIt is easiest to use your system package manager to install the dependencies.\nIf you are on Debian/Ubuntu, you can get all the dependencies required to build matplotlib with:\nsudo apt-get build-dep python-matplotlib\nIf you are on Fedora/RedHat, you can get all the dependencies required to build matplotlib by ﬁrst installing\nyum-builddepand then running:\nsu -c \"yum-builddep python-matplotlib\"\nThis does not build matplotlib, but it does get the install the build dependencies, which will make building\nfrom source easier.\n8 Chapter 2. Installing",
         "0.0066568851470947",
         "Matplotlib, Release 2.0.2\ntk 8.3 or later, not 8.6.0 or 8.6.1 The TCL/Tk widgets library used by the TkAgg backend.\nVersions 8.6.0 and 8.6.1 are known to have issues that may result in segfaults when closing multiple\nwindows in the wrong order.\npyqt 4.4 or later The Qt4 widgets library python wrappers for the Qt4Agg backend\npygtk 2.4 or later The python wrappers for the GTK widgets library for use with the GTK or GTKAgg\nbackend\nwxpython 2.8 or later The python wrappers for the wx widgets library for use with the WX or WXAgg\nbackend\nOptional external programs\nﬀmpeg/avconv or mencoder Required for the animation module to be save out put to movie formats.\nImageMagick Required for the animation module to be able to save to animated gif.\nOptional dependencies\nPillow If Pillow is installed, matplotlib can read and write a larger selection of image ﬁle formats.\npkg-conﬁg A tool used to ﬁnd required non-python libraries. This is not strictly required, but can make\ninstallation go more smoothly if the libraries and headers are not in the expected locations.\nRequired libraries that ship with matplotlib\nagg 2.4 The antigrain C++ rendering engine. matplotlib links against the agg template source statically, so\nit will not aﬀect anything on your system outside of matplotlib.\nqhull 2012.1 A library for computing Delaunay triangulations.\nttconv truetype font utility\n2.2.2 Building on Linux\nIt is easiest to use your system package manager to install the dependencies.\nIf you are on Debian/Ubuntu, you can get all the dependencies required to build matplotlib with:\nsudo apt-get build-dep python-matplotlib\nIf you are on Fedora/RedHat, you can get all the dependencies required to build matplotlib by ﬁrst installing\nyum-builddep and then running:\nsu -c \"yum-builddep python-matplotlib\"\nThis does not build matplotlib, but it does get the install the build dependencies, which will make building\nfrom source easier.\n8\nChapter 2. Installing\n",
         "0.0018203258514404",
         "Matplotlib, Release 2.0.2\ntk 8.3 or later, not 8.6.0 or 8.6.1 The TCL/Tk widgets library used by the TkAgg backend.\nVersions 8.6.0 and 8.6.1 are known to have issues that may result in segfaults when closing multiple\nwindows in the wrong order.\npyqt 4.4 or later The Qt4 widgets library python wrappers for the Qt4Agg backend\npygtk 2.4 or later The python wrappers for the GTK widgets library for use with the GTK or GTKAgg\nbackend\nwxpython 2.8 or later The python wrappers for the wx widgets library for use with the WX or WXAgg\nbackend\nOptional external programs\nﬀmpeg/avconv or mencoder Required for the animation module to be save out put to movie formats.\nImageMagick Required for the animation module to be able to save to animated gif.\nOptional dependencies\nPillow If Pillow is installed, matplotlib can read and write a larger selection of image ﬁle formats.\npkg-conﬁg A tool used to ﬁnd required non-python libraries. This is not strictly required, but can make\ninstallation go more smoothly if the libraries and headers are not in the expected locations.\nRequired libraries that ship with matplotlib\nagg 2.4 The antigrain C++ rendering engine. matplotlib links against the agg template source statically, so\nit will not aﬀect anything on your system outside of matplotlib.\nqhull 2012.1 A library for computing Delaunay triangulations.\nttconv truetype font utility\n2.2.2 Building on Linux\nIt is easiest to use your system package manager to install the dependencies.\nIf you are on Debian/Ubuntu, you can get all the dependencies required to build matplotlib with:\nsudo apt-get build-dep python-matplotlib\nIf you are on Fedora/RedHat, you can get all the dependencies required to build matplotlib by ﬁrst installing\nyum-builddepand then running:\nsu -c \"yum-builddep python-matplotlib\"\nThis does not build matplotlib, but it does get the install the build dependencies, which will make building\nfrom source easier.\n8 Chapter 2. Installing",
         "0.0081129074096679",
         "matplotlib_1-21_pdf.pdf ~ 15",
         "\nIf you have installed prerequisites to nonstandard places and need to inform matplotlib where they are, edit setupext.py and add the base dirs to the basedir dictionary entry for your sys.platform. e.g., if the header to some required library is in /some/path/include/someheader.h, put /some/path in the basedir list for your platform.\n2.2.1 Build requirements\nThese are external packages which you will need to install before installing matplotlib. If you are building on OSX, see Building on OSX. If you are building on Windows, see Building on Windows. If you are installing dependencies with a package manager on Linux, you may need to install the development packages (look for a “-dev” postfix) in addition to the libraries themselves.\nRequired Dependencies\npython 2.7, 3.4, 3.5 or 3.6 Download python.\nnumpy 1.7.1 (or later) array support for python (download numpy)\nsetuptools Setuptools provides extensions for python package installation.\ndateutil 1.1 or later Provides extensions to python datetime handling. If using pip, easy_install or in- stalling from source, the installer will attempt to download and install python_dateutil from PyPI.\npyparsing Required for matplotlib’s mathtext math rendering support. If using pip, easy_install or in- stalling from source, the installer will attempt to download and install pyparsing from PyPI.\nlibpng 1.2 (or later) library for loading and saving PNG files (download). libpng requires zlib.\npytz Used to manipulate time-zone aware datetimes. https://pypi.python.org/pypi/pytz\nFreeType 2.3 or later Library for reading true type font files. If using pip, easy_install or installing from source, the installer will attempt to locate FreeType in expected locations. If it cannot, try installing pkg-config, a tool used to find required non-python libraries.\ncycler 0.10.0 or later Composable cycle class used for constructing style-cycles six Required for compatibility between python 2 and python 3\nDependencies for python 2\nfunctools32 Required for compatibility if running on Python 2.7.\nsubprocess32 Optional, unix only. Backport of the subprocess standard library from 3.2+ for Python 2.7.\nIt provides better error messages and timeout support.\nOptional GUI framework\nThese are optional packages which you may want to install to use matplotlib with a user interface toolkit. See What is a backend? for more details on the optional matplotlib backends and the capabilities they provide.\nMatplotlib, Release 2.0.2\n  2.2. Installingfromsource 7\n\n",
         "0.0173633347079925",
         "0.1597633136094674",
         "1864",
         "0.0174095525774153",
         "0.1597633136094674",
         "1862",
         "0.0173633347079925",
         "0.1597633136094674",
         "1864"
        ]
       ],
       "shape": {
        "columns": 19,
        "rows": 2
       }
      },
      "text/html": [
       "<div>\n",
       "<style scoped>\n",
       "    .dataframe tbody tr th:only-of-type {\n",
       "        vertical-align: middle;\n",
       "    }\n",
       "\n",
       "    .dataframe tbody tr th {\n",
       "        vertical-align: top;\n",
       "    }\n",
       "\n",
       "    .dataframe thead th {\n",
       "        text-align: right;\n",
       "    }\n",
       "</style>\n",
       "<table border=\"1\" class=\"dataframe\">\n",
       "  <thead>\n",
       "    <tr style=\"text-align: right;\">\n",
       "      <th></th>\n",
       "      <th>pageNumber_pypdf</th>\n",
       "      <th>pdfId_pypdf</th>\n",
       "      <th>pageContent_pypdf</th>\n",
       "      <th>extractionTimeSeconds_pypdf</th>\n",
       "      <th>pageContent_pymupdf</th>\n",
       "      <th>extractionTimeSeconds_pymupdf</th>\n",
       "      <th>pageContent_pdfminer</th>\n",
       "      <th>extractionTimeSeconds_pdfminer</th>\n",
       "      <th>pdfId</th>\n",
       "      <th>text</th>\n",
       "      <th>pypdf_bleu</th>\n",
       "      <th>pypdf_jaccard</th>\n",
       "      <th>pypdf_levenshtein</th>\n",
       "      <th>pymupdf_bleu</th>\n",
       "      <th>pymupdf_jaccard</th>\n",
       "      <th>pymupdf_levenshtein</th>\n",
       "      <th>pdfminer_bleu</th>\n",
       "      <th>pdfminer_jaccard</th>\n",
       "      <th>pdfminer_levenshtein</th>\n",
       "    </tr>\n",
       "  </thead>\n",
       "  <tbody>\n",
       "    <tr>\n",
       "      <th>50</th>\n",
       "      <td>19.0</td>\n",
       "      <td>matplotlib_1-21_pdf.pdf ~ 19</td>\n",
       "      <td>Matplotlib, Release 2.0.2\\n0.0 0.5 1.0 1.5 2.0...</td>\n",
       "      <td>0.007328</td>\n",
       "      <td>Matplotlib, Release 2.0.2\\n0.0\\n0.5\\n1.0\\n1.5\\...</td>\n",
       "      <td>0.001442</td>\n",
       "      <td>Matplotlib, Release 2.0.2\\n0.0 0.5 1.0 1.5 2.0...</td>\n",
       "      <td>0.006677</td>\n",
       "      <td>matplotlib_1-21_pdf.pdf ~ 19</td>\n",
       "      <td>\\nCHAPTER THREE\\nTUTORIALS\\n 3.1 Introductory ...</td>\n",
       "      <td>0.011171</td>\n",
       "      <td>0.033333</td>\n",
       "      <td>1047</td>\n",
       "      <td>0.011118</td>\n",
       "      <td>0.033113</td>\n",
       "      <td>1048</td>\n",
       "      <td>0.011171</td>\n",
       "      <td>0.033333</td>\n",
       "      <td>1047</td>\n",
       "    </tr>\n",
       "    <tr>\n",
       "      <th>46</th>\n",
       "      <td>15.0</td>\n",
       "      <td>matplotlib_1-21_pdf.pdf ~ 15</td>\n",
       "      <td>Matplotlib, Release 2.0.2\\ntk 8.3 or later, no...</td>\n",
       "      <td>0.006657</td>\n",
       "      <td>Matplotlib, Release 2.0.2\\ntk 8.3 or later, no...</td>\n",
       "      <td>0.001820</td>\n",
       "      <td>Matplotlib, Release 2.0.2\\ntk 8.3 or later, no...</td>\n",
       "      <td>0.008113</td>\n",
       "      <td>matplotlib_1-21_pdf.pdf ~ 15</td>\n",
       "      <td>\\nIf you have installed prerequisites to nonst...</td>\n",
       "      <td>0.017363</td>\n",
       "      <td>0.159763</td>\n",
       "      <td>1864</td>\n",
       "      <td>0.017410</td>\n",
       "      <td>0.159763</td>\n",
       "      <td>1862</td>\n",
       "      <td>0.017363</td>\n",
       "      <td>0.159763</td>\n",
       "      <td>1864</td>\n",
       "    </tr>\n",
       "  </tbody>\n",
       "</table>\n",
       "</div>"
      ],
      "text/plain": [
       "    pageNumber_pypdf                   pdfId_pypdf  \\\n",
       "50              19.0  matplotlib_1-21_pdf.pdf ~ 19   \n",
       "46              15.0  matplotlib_1-21_pdf.pdf ~ 15   \n",
       "\n",
       "                                    pageContent_pypdf  \\\n",
       "50  Matplotlib, Release 2.0.2\\n0.0 0.5 1.0 1.5 2.0...   \n",
       "46  Matplotlib, Release 2.0.2\\ntk 8.3 or later, no...   \n",
       "\n",
       "    extractionTimeSeconds_pypdf  \\\n",
       "50                     0.007328   \n",
       "46                     0.006657   \n",
       "\n",
       "                                  pageContent_pymupdf  \\\n",
       "50  Matplotlib, Release 2.0.2\\n0.0\\n0.5\\n1.0\\n1.5\\...   \n",
       "46  Matplotlib, Release 2.0.2\\ntk 8.3 or later, no...   \n",
       "\n",
       "    extractionTimeSeconds_pymupdf  \\\n",
       "50                       0.001442   \n",
       "46                       0.001820   \n",
       "\n",
       "                                 pageContent_pdfminer  \\\n",
       "50  Matplotlib, Release 2.0.2\\n0.0 0.5 1.0 1.5 2.0...   \n",
       "46  Matplotlib, Release 2.0.2\\ntk 8.3 or later, no...   \n",
       "\n",
       "    extractionTimeSeconds_pdfminer                         pdfId  \\\n",
       "50                        0.006677  matplotlib_1-21_pdf.pdf ~ 19   \n",
       "46                        0.008113  matplotlib_1-21_pdf.pdf ~ 15   \n",
       "\n",
       "                                                 text  pypdf_bleu  \\\n",
       "50  \\nCHAPTER THREE\\nTUTORIALS\\n 3.1 Introductory ...    0.011171   \n",
       "46  \\nIf you have installed prerequisites to nonst...    0.017363   \n",
       "\n",
       "    pypdf_jaccard  pypdf_levenshtein  pymupdf_bleu  pymupdf_jaccard  \\\n",
       "50       0.033333               1047      0.011118         0.033113   \n",
       "46       0.159763               1864      0.017410         0.159763   \n",
       "\n",
       "    pymupdf_levenshtein  pdfminer_bleu  pdfminer_jaccard  pdfminer_levenshtein  \n",
       "50                 1048       0.011171          0.033333                  1047  \n",
       "46                 1862       0.017363          0.159763                  1864  "
      ]
     },
     "execution_count": 10,
     "metadata": {},
     "output_type": "execute_result"
    }
   ],
   "source": [
    "df.sample(2)"
   ]
  },
  {
   "cell_type": "markdown",
   "id": "7a13b84f-470f-4c6b-aa99-ab120a9a1f61",
   "metadata": {},
   "source": [
    "# Analysis of Extraction Times"
   ]
  },
  {
   "cell_type": "code",
   "execution_count": 11,
   "id": "8d5c78da-e356-42e2-8b7f-0b4ba91dcbd9",
   "metadata": {},
   "outputs": [],
   "source": [
    "libraries: list = ['pypdf', 'pymupdf', 'pdfminer']\n",
    "time_col_prefix: str = 'extractionTimeSeconds_'\n",
    "all_time_cols = [time_col_prefix + lib for lib in libraries]"
   ]
  },
  {
   "cell_type": "code",
   "execution_count": 12,
   "id": "2364ba20-13f1-4060-bac0-644e3fdd3124",
   "metadata": {},
   "outputs": [
    {
     "data": {
      "application/vnd.microsoft.datawrangler.viewer.v0+json": {
       "columns": [
        {
         "name": "index",
         "rawType": "object",
         "type": "string"
        },
        {
         "name": "extractionTimeSeconds_pypdf",
         "rawType": "float64",
         "type": "float"
        },
        {
         "name": "extractionTimeSeconds_pymupdf",
         "rawType": "float64",
         "type": "float"
        },
        {
         "name": "extractionTimeSeconds_pdfminer",
         "rawType": "float64",
         "type": "float"
        }
       ],
       "ref": "ac35caa8-2769-48c5-b5bc-7d5587aa5ed8",
       "rows": [
        [
         "count",
         "60.0",
         "60.0",
         "60.0"
        ],
        [
         "mean",
         "0.007213393847147577",
         "0.0016008575757344044",
         "0.00719907681147253"
        ],
        [
         "std",
         "0.011471035098178031",
         "0.0012437169344325174",
         "0.011735244294706475"
        ],
        [
         "min",
         "5.1021575927734375e-05",
         "4.6253204345703125e-05",
         "4.792213439941406e-05"
        ],
        [
         "25%",
         "0.0032356977462768",
         "0.0007846355438232",
         "0.0030378103256224996"
        ],
        [
         "50%",
         "0.00529313087463375",
         "0.0012210607528685999",
         "0.004938006401062"
        ],
        [
         "75%",
         "0.00746113061904905",
         "0.00228744745254515",
         "0.007445991039276075"
        ],
        [
         "max",
         "0.0874288082122802",
         "0.0056879520416259",
         "0.089202880859375"
        ]
       ],
       "shape": {
        "columns": 3,
        "rows": 8
       }
      },
      "text/html": [
       "<div>\n",
       "<style scoped>\n",
       "    .dataframe tbody tr th:only-of-type {\n",
       "        vertical-align: middle;\n",
       "    }\n",
       "\n",
       "    .dataframe tbody tr th {\n",
       "        vertical-align: top;\n",
       "    }\n",
       "\n",
       "    .dataframe thead th {\n",
       "        text-align: right;\n",
       "    }\n",
       "</style>\n",
       "<table border=\"1\" class=\"dataframe\">\n",
       "  <thead>\n",
       "    <tr style=\"text-align: right;\">\n",
       "      <th></th>\n",
       "      <th>extractionTimeSeconds_pypdf</th>\n",
       "      <th>extractionTimeSeconds_pymupdf</th>\n",
       "      <th>extractionTimeSeconds_pdfminer</th>\n",
       "    </tr>\n",
       "  </thead>\n",
       "  <tbody>\n",
       "    <tr>\n",
       "      <th>count</th>\n",
       "      <td>60.000000</td>\n",
       "      <td>60.000000</td>\n",
       "      <td>60.000000</td>\n",
       "    </tr>\n",
       "    <tr>\n",
       "      <th>mean</th>\n",
       "      <td>0.007213</td>\n",
       "      <td>0.001601</td>\n",
       "      <td>0.007199</td>\n",
       "    </tr>\n",
       "    <tr>\n",
       "      <th>std</th>\n",
       "      <td>0.011471</td>\n",
       "      <td>0.001244</td>\n",
       "      <td>0.011735</td>\n",
       "    </tr>\n",
       "    <tr>\n",
       "      <th>min</th>\n",
       "      <td>0.000051</td>\n",
       "      <td>0.000046</td>\n",
       "      <td>0.000048</td>\n",
       "    </tr>\n",
       "    <tr>\n",
       "      <th>25%</th>\n",
       "      <td>0.003236</td>\n",
       "      <td>0.000785</td>\n",
       "      <td>0.003038</td>\n",
       "    </tr>\n",
       "    <tr>\n",
       "      <th>50%</th>\n",
       "      <td>0.005293</td>\n",
       "      <td>0.001221</td>\n",
       "      <td>0.004938</td>\n",
       "    </tr>\n",
       "    <tr>\n",
       "      <th>75%</th>\n",
       "      <td>0.007461</td>\n",
       "      <td>0.002287</td>\n",
       "      <td>0.007446</td>\n",
       "    </tr>\n",
       "    <tr>\n",
       "      <th>max</th>\n",
       "      <td>0.087429</td>\n",
       "      <td>0.005688</td>\n",
       "      <td>0.089203</td>\n",
       "    </tr>\n",
       "  </tbody>\n",
       "</table>\n",
       "</div>"
      ],
      "text/plain": [
       "       extractionTimeSeconds_pypdf  extractionTimeSeconds_pymupdf  \\\n",
       "count                    60.000000                      60.000000   \n",
       "mean                      0.007213                       0.001601   \n",
       "std                       0.011471                       0.001244   \n",
       "min                       0.000051                       0.000046   \n",
       "25%                       0.003236                       0.000785   \n",
       "50%                       0.005293                       0.001221   \n",
       "75%                       0.007461                       0.002287   \n",
       "max                       0.087429                       0.005688   \n",
       "\n",
       "       extractionTimeSeconds_pdfminer  \n",
       "count                       60.000000  \n",
       "mean                         0.007199  \n",
       "std                          0.011735  \n",
       "min                          0.000048  \n",
       "25%                          0.003038  \n",
       "50%                          0.004938  \n",
       "75%                          0.007446  \n",
       "max                          0.089203  "
      ]
     },
     "execution_count": 12,
     "metadata": {},
     "output_type": "execute_result"
    }
   ],
   "source": [
    "desc = df[all_time_cols].describe()\n",
    "desc"
   ]
  },
  {
   "cell_type": "markdown",
   "id": "ccbd8382-ca29-4686-b0ba-bf6b0dbfa0f2",
   "metadata": {},
   "source": [
    "## Check which page took the highest time"
   ]
  },
  {
   "cell_type": "code",
   "execution_count": 13,
   "id": "494569cd-39e9-4870-998c-1eaabc38f21e",
   "metadata": {},
   "outputs": [
    {
     "data": {
      "text/plain": [
       "['extractionTimeSeconds_pypdf',\n",
       " 'extractionTimeSeconds_pymupdf',\n",
       " 'extractionTimeSeconds_pdfminer']"
      ]
     },
     "execution_count": 13,
     "metadata": {},
     "output_type": "execute_result"
    }
   ],
   "source": [
    "all_time_cols"
   ]
  },
  {
   "cell_type": "code",
   "execution_count": 14,
   "id": "f6d65c0d-def3-490d-8fc8-522286e2b5a2",
   "metadata": {},
   "outputs": [
    {
     "data": {
      "application/vnd.microsoft.datawrangler.viewer.v0+json": {
       "columns": [
        {
         "name": "index",
         "rawType": "int64",
         "type": "integer"
        },
        {
         "name": "pageNumber_pypdf",
         "rawType": "float64",
         "type": "float"
        },
        {
         "name": "pdfId_pypdf",
         "rawType": "object",
         "type": "string"
        },
        {
         "name": "pageContent_pypdf",
         "rawType": "object",
         "type": "string"
        },
        {
         "name": "extractionTimeSeconds_pypdf",
         "rawType": "float64",
         "type": "float"
        },
        {
         "name": "pageContent_pymupdf",
         "rawType": "object",
         "type": "string"
        },
        {
         "name": "extractionTimeSeconds_pymupdf",
         "rawType": "float64",
         "type": "float"
        },
        {
         "name": "pageContent_pdfminer",
         "rawType": "object",
         "type": "string"
        },
        {
         "name": "extractionTimeSeconds_pdfminer",
         "rawType": "float64",
         "type": "float"
        },
        {
         "name": "pdfId",
         "rawType": "object",
         "type": "string"
        },
        {
         "name": "text",
         "rawType": "object",
         "type": "string"
        },
        {
         "name": "pypdf_bleu",
         "rawType": "float64",
         "type": "float"
        },
        {
         "name": "pypdf_jaccard",
         "rawType": "float64",
         "type": "float"
        },
        {
         "name": "pypdf_levenshtein",
         "rawType": "int64",
         "type": "integer"
        },
        {
         "name": "pymupdf_bleu",
         "rawType": "float64",
         "type": "float"
        },
        {
         "name": "pymupdf_jaccard",
         "rawType": "float64",
         "type": "float"
        },
        {
         "name": "pymupdf_levenshtein",
         "rawType": "int64",
         "type": "integer"
        },
        {
         "name": "pdfminer_bleu",
         "rawType": "float64",
         "type": "float"
        },
        {
         "name": "pdfminer_jaccard",
         "rawType": "float64",
         "type": "float"
        },
        {
         "name": "pdfminer_levenshtein",
         "rawType": "int64",
         "type": "integer"
        }
       ],
       "ref": "0cc998b1-2bd9-40fa-903f-a5bee2f80f46",
       "rows": [
        [
         "5",
         "6.0",
         "matplotlib_41-61_pdf.pdf ~ 6",
         "Matplotlib, Release 2.0.2\nGridSpec with Varying Cell Sizes\nBy default, GridSpec creates cells of equal sizes. You can adjust relative heights and widths of rows and\ncolumns. Note that absolute values are meaningless, only their relative ratios matter.\ngs = gridspec.GridSpec(2, 2,\nwidth_ratios=[1, 2],\nheight_ratios=[4, 1]\n)\nax1 = plt.subplot(gs[0])\nax2 = plt.subplot(gs[1])\n3.1. Introductory 39",
         "0.0874288082122802",
         "Matplotlib, Release 2.0.2\nGridSpec with Varying Cell Sizes\nBy default, GridSpec creates cells of equal sizes. You can adjust relative heights and widths of rows and\ncolumns. Note that absolute values are meaningless, only their relative ratios matter.\ngs = gridspec.GridSpec(2, 2,\nwidth_ratios=[1, 2],\nheight_ratios=[4, 1]\n)\nax1 = plt.subplot(gs[0])\nax2 = plt.subplot(gs[1])\n3.1. Introductory\n39\n",
         "0.0056879520416259",
         "Matplotlib, Release 2.0.2\nGridSpec with Varying Cell Sizes\nBy default, GridSpec creates cells of equal sizes. You can adjust relative heights and widths of rows and\ncolumns. Note that absolute values are meaningless, only their relative ratios matter.\ngs = gridspec.GridSpec(2, 2,\nwidth_ratios=[1, 2],\nheight_ratios=[4, 1]\n)\nax1 = plt.subplot(gs[0])\nax2 = plt.subplot(gs[1])\n3.1. Introductory 39",
         "0.089202880859375",
         "matplotlib_41-61_pdf.pdf ~ 6",
         "\nMatplotlib, Release 2.0.2\n GridSpec using SubplotSpec\nYou can create GridSpec from the SubplotSpec, in which case its layout parameters are set to that of the location of the given SubplotSpec.\n    gs0 = gridspec.GridSpec(1, 2)\ngs00 = gridspec.GridSpecFromSubplotSpec(3, 3, subplot_spec=gs0[0])\ngs01 = gridspec.GridSpecFromSubplotSpec(3, 3, subplot_spec=gs0[1])\n  GirdSpec Inside GridSpec\n   ax1\n    ax4\n  ax5\n   ax2\nax3\nax6\nA Complex Nested GridSpec using SubplotSpec\nHere’s a more sophisticated example of nested GridSpec where we put a box around each cell of the outer 4x4 grid, by hiding appropriate spines in each of the inner 3x3 grids.\n 38 Chapter3. Tutorials\n\n",
         "0.0313182566597771",
         "0.1081081081081081",
         "505",
         "0.0313182566597771",
         "0.1081081081081081",
         "504",
         "0.0313182566597771",
         "0.1081081081081081",
         "505"
        ]
       ],
       "shape": {
        "columns": 19,
        "rows": 1
       }
      },
      "text/html": [
       "<div>\n",
       "<style scoped>\n",
       "    .dataframe tbody tr th:only-of-type {\n",
       "        vertical-align: middle;\n",
       "    }\n",
       "\n",
       "    .dataframe tbody tr th {\n",
       "        vertical-align: top;\n",
       "    }\n",
       "\n",
       "    .dataframe thead th {\n",
       "        text-align: right;\n",
       "    }\n",
       "</style>\n",
       "<table border=\"1\" class=\"dataframe\">\n",
       "  <thead>\n",
       "    <tr style=\"text-align: right;\">\n",
       "      <th></th>\n",
       "      <th>pageNumber_pypdf</th>\n",
       "      <th>pdfId_pypdf</th>\n",
       "      <th>pageContent_pypdf</th>\n",
       "      <th>extractionTimeSeconds_pypdf</th>\n",
       "      <th>pageContent_pymupdf</th>\n",
       "      <th>extractionTimeSeconds_pymupdf</th>\n",
       "      <th>pageContent_pdfminer</th>\n",
       "      <th>extractionTimeSeconds_pdfminer</th>\n",
       "      <th>pdfId</th>\n",
       "      <th>text</th>\n",
       "      <th>pypdf_bleu</th>\n",
       "      <th>pypdf_jaccard</th>\n",
       "      <th>pypdf_levenshtein</th>\n",
       "      <th>pymupdf_bleu</th>\n",
       "      <th>pymupdf_jaccard</th>\n",
       "      <th>pymupdf_levenshtein</th>\n",
       "      <th>pdfminer_bleu</th>\n",
       "      <th>pdfminer_jaccard</th>\n",
       "      <th>pdfminer_levenshtein</th>\n",
       "    </tr>\n",
       "  </thead>\n",
       "  <tbody>\n",
       "    <tr>\n",
       "      <th>5</th>\n",
       "      <td>6.0</td>\n",
       "      <td>matplotlib_41-61_pdf.pdf ~ 6</td>\n",
       "      <td>Matplotlib, Release 2.0.2\\nGridSpec with Varyi...</td>\n",
       "      <td>0.087429</td>\n",
       "      <td>Matplotlib, Release 2.0.2\\nGridSpec with Varyi...</td>\n",
       "      <td>0.005688</td>\n",
       "      <td>Matplotlib, Release 2.0.2\\nGridSpec with Varyi...</td>\n",
       "      <td>0.089203</td>\n",
       "      <td>matplotlib_41-61_pdf.pdf ~ 6</td>\n",
       "      <td>\\nMatplotlib, Release 2.0.2\\n GridSpec using S...</td>\n",
       "      <td>0.031318</td>\n",
       "      <td>0.108108</td>\n",
       "      <td>505</td>\n",
       "      <td>0.031318</td>\n",
       "      <td>0.108108</td>\n",
       "      <td>504</td>\n",
       "      <td>0.031318</td>\n",
       "      <td>0.108108</td>\n",
       "      <td>505</td>\n",
       "    </tr>\n",
       "  </tbody>\n",
       "</table>\n",
       "</div>"
      ],
      "text/plain": [
       "   pageNumber_pypdf                   pdfId_pypdf  \\\n",
       "5               6.0  matplotlib_41-61_pdf.pdf ~ 6   \n",
       "\n",
       "                                   pageContent_pypdf  \\\n",
       "5  Matplotlib, Release 2.0.2\\nGridSpec with Varyi...   \n",
       "\n",
       "   extractionTimeSeconds_pypdf  \\\n",
       "5                     0.087429   \n",
       "\n",
       "                                 pageContent_pymupdf  \\\n",
       "5  Matplotlib, Release 2.0.2\\nGridSpec with Varyi...   \n",
       "\n",
       "   extractionTimeSeconds_pymupdf  \\\n",
       "5                       0.005688   \n",
       "\n",
       "                                pageContent_pdfminer  \\\n",
       "5  Matplotlib, Release 2.0.2\\nGridSpec with Varyi...   \n",
       "\n",
       "   extractionTimeSeconds_pdfminer                         pdfId  \\\n",
       "5                        0.089203  matplotlib_41-61_pdf.pdf ~ 6   \n",
       "\n",
       "                                                text  pypdf_bleu  \\\n",
       "5  \\nMatplotlib, Release 2.0.2\\n GridSpec using S...    0.031318   \n",
       "\n",
       "   pypdf_jaccard  pypdf_levenshtein  pymupdf_bleu  pymupdf_jaccard  \\\n",
       "5       0.108108                505      0.031318         0.108108   \n",
       "\n",
       "   pymupdf_levenshtein  pdfminer_bleu  pdfminer_jaccard  pdfminer_levenshtein  \n",
       "5                  504       0.031318          0.108108                   505  "
      ]
     },
     "execution_count": 14,
     "metadata": {},
     "output_type": "execute_result"
    }
   ],
   "source": [
    "df[df['extractionTimeSeconds_pypdf'] == desc.loc[\"max\", \"extractionTimeSeconds_pypdf\"]]"
   ]
  },
  {
   "cell_type": "code",
   "execution_count": 15,
   "id": "f49a939c-a301-4dd4-8376-8c429a5b03b6",
   "metadata": {},
   "outputs": [
    {
     "data": {
      "application/vnd.microsoft.datawrangler.viewer.v0+json": {
       "columns": [
        {
         "name": "index",
         "rawType": "int64",
         "type": "integer"
        },
        {
         "name": "pageNumber_pypdf",
         "rawType": "float64",
         "type": "float"
        },
        {
         "name": "pdfId_pypdf",
         "rawType": "object",
         "type": "string"
        },
        {
         "name": "pageContent_pypdf",
         "rawType": "object",
         "type": "string"
        },
        {
         "name": "extractionTimeSeconds_pypdf",
         "rawType": "float64",
         "type": "float"
        },
        {
         "name": "pageContent_pymupdf",
         "rawType": "object",
         "type": "string"
        },
        {
         "name": "extractionTimeSeconds_pymupdf",
         "rawType": "float64",
         "type": "float"
        },
        {
         "name": "pageContent_pdfminer",
         "rawType": "object",
         "type": "string"
        },
        {
         "name": "extractionTimeSeconds_pdfminer",
         "rawType": "float64",
         "type": "float"
        },
        {
         "name": "pdfId",
         "rawType": "object",
         "type": "string"
        },
        {
         "name": "text",
         "rawType": "object",
         "type": "string"
        },
        {
         "name": "pypdf_bleu",
         "rawType": "float64",
         "type": "float"
        },
        {
         "name": "pypdf_jaccard",
         "rawType": "float64",
         "type": "float"
        },
        {
         "name": "pypdf_levenshtein",
         "rawType": "int64",
         "type": "integer"
        },
        {
         "name": "pymupdf_bleu",
         "rawType": "float64",
         "type": "float"
        },
        {
         "name": "pymupdf_jaccard",
         "rawType": "float64",
         "type": "float"
        },
        {
         "name": "pymupdf_levenshtein",
         "rawType": "int64",
         "type": "integer"
        },
        {
         "name": "pdfminer_bleu",
         "rawType": "float64",
         "type": "float"
        },
        {
         "name": "pdfminer_jaccard",
         "rawType": "float64",
         "type": "float"
        },
        {
         "name": "pdfminer_levenshtein",
         "rawType": "int64",
         "type": "integer"
        }
       ],
       "ref": "7974ee32-3bb0-4175-961c-a554ce64123e",
       "rows": [
        [
         "5",
         "6.0",
         "matplotlib_41-61_pdf.pdf ~ 6",
         "Matplotlib, Release 2.0.2\nGridSpec with Varying Cell Sizes\nBy default, GridSpec creates cells of equal sizes. You can adjust relative heights and widths of rows and\ncolumns. Note that absolute values are meaningless, only their relative ratios matter.\ngs = gridspec.GridSpec(2, 2,\nwidth_ratios=[1, 2],\nheight_ratios=[4, 1]\n)\nax1 = plt.subplot(gs[0])\nax2 = plt.subplot(gs[1])\n3.1. Introductory 39",
         "0.0874288082122802",
         "Matplotlib, Release 2.0.2\nGridSpec with Varying Cell Sizes\nBy default, GridSpec creates cells of equal sizes. You can adjust relative heights and widths of rows and\ncolumns. Note that absolute values are meaningless, only their relative ratios matter.\ngs = gridspec.GridSpec(2, 2,\nwidth_ratios=[1, 2],\nheight_ratios=[4, 1]\n)\nax1 = plt.subplot(gs[0])\nax2 = plt.subplot(gs[1])\n3.1. Introductory\n39\n",
         "0.0056879520416259",
         "Matplotlib, Release 2.0.2\nGridSpec with Varying Cell Sizes\nBy default, GridSpec creates cells of equal sizes. You can adjust relative heights and widths of rows and\ncolumns. Note that absolute values are meaningless, only their relative ratios matter.\ngs = gridspec.GridSpec(2, 2,\nwidth_ratios=[1, 2],\nheight_ratios=[4, 1]\n)\nax1 = plt.subplot(gs[0])\nax2 = plt.subplot(gs[1])\n3.1. Introductory 39",
         "0.089202880859375",
         "matplotlib_41-61_pdf.pdf ~ 6",
         "\nMatplotlib, Release 2.0.2\n GridSpec using SubplotSpec\nYou can create GridSpec from the SubplotSpec, in which case its layout parameters are set to that of the location of the given SubplotSpec.\n    gs0 = gridspec.GridSpec(1, 2)\ngs00 = gridspec.GridSpecFromSubplotSpec(3, 3, subplot_spec=gs0[0])\ngs01 = gridspec.GridSpecFromSubplotSpec(3, 3, subplot_spec=gs0[1])\n  GirdSpec Inside GridSpec\n   ax1\n    ax4\n  ax5\n   ax2\nax3\nax6\nA Complex Nested GridSpec using SubplotSpec\nHere’s a more sophisticated example of nested GridSpec where we put a box around each cell of the outer 4x4 grid, by hiding appropriate spines in each of the inner 3x3 grids.\n 38 Chapter3. Tutorials\n\n",
         "0.0313182566597771",
         "0.1081081081081081",
         "505",
         "0.0313182566597771",
         "0.1081081081081081",
         "504",
         "0.0313182566597771",
         "0.1081081081081081",
         "505"
        ]
       ],
       "shape": {
        "columns": 19,
        "rows": 1
       }
      },
      "text/html": [
       "<div>\n",
       "<style scoped>\n",
       "    .dataframe tbody tr th:only-of-type {\n",
       "        vertical-align: middle;\n",
       "    }\n",
       "\n",
       "    .dataframe tbody tr th {\n",
       "        vertical-align: top;\n",
       "    }\n",
       "\n",
       "    .dataframe thead th {\n",
       "        text-align: right;\n",
       "    }\n",
       "</style>\n",
       "<table border=\"1\" class=\"dataframe\">\n",
       "  <thead>\n",
       "    <tr style=\"text-align: right;\">\n",
       "      <th></th>\n",
       "      <th>pageNumber_pypdf</th>\n",
       "      <th>pdfId_pypdf</th>\n",
       "      <th>pageContent_pypdf</th>\n",
       "      <th>extractionTimeSeconds_pypdf</th>\n",
       "      <th>pageContent_pymupdf</th>\n",
       "      <th>extractionTimeSeconds_pymupdf</th>\n",
       "      <th>pageContent_pdfminer</th>\n",
       "      <th>extractionTimeSeconds_pdfminer</th>\n",
       "      <th>pdfId</th>\n",
       "      <th>text</th>\n",
       "      <th>pypdf_bleu</th>\n",
       "      <th>pypdf_jaccard</th>\n",
       "      <th>pypdf_levenshtein</th>\n",
       "      <th>pymupdf_bleu</th>\n",
       "      <th>pymupdf_jaccard</th>\n",
       "      <th>pymupdf_levenshtein</th>\n",
       "      <th>pdfminer_bleu</th>\n",
       "      <th>pdfminer_jaccard</th>\n",
       "      <th>pdfminer_levenshtein</th>\n",
       "    </tr>\n",
       "  </thead>\n",
       "  <tbody>\n",
       "    <tr>\n",
       "      <th>5</th>\n",
       "      <td>6.0</td>\n",
       "      <td>matplotlib_41-61_pdf.pdf ~ 6</td>\n",
       "      <td>Matplotlib, Release 2.0.2\\nGridSpec with Varyi...</td>\n",
       "      <td>0.087429</td>\n",
       "      <td>Matplotlib, Release 2.0.2\\nGridSpec with Varyi...</td>\n",
       "      <td>0.005688</td>\n",
       "      <td>Matplotlib, Release 2.0.2\\nGridSpec with Varyi...</td>\n",
       "      <td>0.089203</td>\n",
       "      <td>matplotlib_41-61_pdf.pdf ~ 6</td>\n",
       "      <td>\\nMatplotlib, Release 2.0.2\\n GridSpec using S...</td>\n",
       "      <td>0.031318</td>\n",
       "      <td>0.108108</td>\n",
       "      <td>505</td>\n",
       "      <td>0.031318</td>\n",
       "      <td>0.108108</td>\n",
       "      <td>504</td>\n",
       "      <td>0.031318</td>\n",
       "      <td>0.108108</td>\n",
       "      <td>505</td>\n",
       "    </tr>\n",
       "  </tbody>\n",
       "</table>\n",
       "</div>"
      ],
      "text/plain": [
       "   pageNumber_pypdf                   pdfId_pypdf  \\\n",
       "5               6.0  matplotlib_41-61_pdf.pdf ~ 6   \n",
       "\n",
       "                                   pageContent_pypdf  \\\n",
       "5  Matplotlib, Release 2.0.2\\nGridSpec with Varyi...   \n",
       "\n",
       "   extractionTimeSeconds_pypdf  \\\n",
       "5                     0.087429   \n",
       "\n",
       "                                 pageContent_pymupdf  \\\n",
       "5  Matplotlib, Release 2.0.2\\nGridSpec with Varyi...   \n",
       "\n",
       "   extractionTimeSeconds_pymupdf  \\\n",
       "5                       0.005688   \n",
       "\n",
       "                                pageContent_pdfminer  \\\n",
       "5  Matplotlib, Release 2.0.2\\nGridSpec with Varyi...   \n",
       "\n",
       "   extractionTimeSeconds_pdfminer                         pdfId  \\\n",
       "5                        0.089203  matplotlib_41-61_pdf.pdf ~ 6   \n",
       "\n",
       "                                                text  pypdf_bleu  \\\n",
       "5  \\nMatplotlib, Release 2.0.2\\n GridSpec using S...    0.031318   \n",
       "\n",
       "   pypdf_jaccard  pypdf_levenshtein  pymupdf_bleu  pymupdf_jaccard  \\\n",
       "5       0.108108                505      0.031318         0.108108   \n",
       "\n",
       "   pymupdf_levenshtein  pdfminer_bleu  pdfminer_jaccard  pdfminer_levenshtein  \n",
       "5                  504       0.031318          0.108108                   505  "
      ]
     },
     "execution_count": 15,
     "metadata": {},
     "output_type": "execute_result"
    }
   ],
   "source": [
    "df[df['extractionTimeSeconds_pymupdf'] == desc.loc[\"max\", \"extractionTimeSeconds_pymupdf\"]]"
   ]
  },
  {
   "cell_type": "code",
   "execution_count": 16,
   "id": "2f167d45-5ace-43c4-b077-b5fb529092ec",
   "metadata": {},
   "outputs": [
    {
     "data": {
      "application/vnd.microsoft.datawrangler.viewer.v0+json": {
       "columns": [
        {
         "name": "index",
         "rawType": "int64",
         "type": "integer"
        },
        {
         "name": "pageNumber_pypdf",
         "rawType": "float64",
         "type": "float"
        },
        {
         "name": "pdfId_pypdf",
         "rawType": "object",
         "type": "string"
        },
        {
         "name": "pageContent_pypdf",
         "rawType": "object",
         "type": "string"
        },
        {
         "name": "extractionTimeSeconds_pypdf",
         "rawType": "float64",
         "type": "float"
        },
        {
         "name": "pageContent_pymupdf",
         "rawType": "object",
         "type": "string"
        },
        {
         "name": "extractionTimeSeconds_pymupdf",
         "rawType": "float64",
         "type": "float"
        },
        {
         "name": "pageContent_pdfminer",
         "rawType": "object",
         "type": "string"
        },
        {
         "name": "extractionTimeSeconds_pdfminer",
         "rawType": "float64",
         "type": "float"
        },
        {
         "name": "pdfId",
         "rawType": "object",
         "type": "string"
        },
        {
         "name": "text",
         "rawType": "object",
         "type": "string"
        },
        {
         "name": "pypdf_bleu",
         "rawType": "float64",
         "type": "float"
        },
        {
         "name": "pypdf_jaccard",
         "rawType": "float64",
         "type": "float"
        },
        {
         "name": "pypdf_levenshtein",
         "rawType": "int64",
         "type": "integer"
        },
        {
         "name": "pymupdf_bleu",
         "rawType": "float64",
         "type": "float"
        },
        {
         "name": "pymupdf_jaccard",
         "rawType": "float64",
         "type": "float"
        },
        {
         "name": "pymupdf_levenshtein",
         "rawType": "int64",
         "type": "integer"
        },
        {
         "name": "pdfminer_bleu",
         "rawType": "float64",
         "type": "float"
        },
        {
         "name": "pdfminer_jaccard",
         "rawType": "float64",
         "type": "float"
        },
        {
         "name": "pdfminer_levenshtein",
         "rawType": "int64",
         "type": "integer"
        }
       ],
       "ref": "111bd0ce-b9af-4f53-97a7-29b6e6e0580e",
       "rows": [
        [
         "5",
         "6.0",
         "matplotlib_41-61_pdf.pdf ~ 6",
         "Matplotlib, Release 2.0.2\nGridSpec with Varying Cell Sizes\nBy default, GridSpec creates cells of equal sizes. You can adjust relative heights and widths of rows and\ncolumns. Note that absolute values are meaningless, only their relative ratios matter.\ngs = gridspec.GridSpec(2, 2,\nwidth_ratios=[1, 2],\nheight_ratios=[4, 1]\n)\nax1 = plt.subplot(gs[0])\nax2 = plt.subplot(gs[1])\n3.1. Introductory 39",
         "0.0874288082122802",
         "Matplotlib, Release 2.0.2\nGridSpec with Varying Cell Sizes\nBy default, GridSpec creates cells of equal sizes. You can adjust relative heights and widths of rows and\ncolumns. Note that absolute values are meaningless, only their relative ratios matter.\ngs = gridspec.GridSpec(2, 2,\nwidth_ratios=[1, 2],\nheight_ratios=[4, 1]\n)\nax1 = plt.subplot(gs[0])\nax2 = plt.subplot(gs[1])\n3.1. Introductory\n39\n",
         "0.0056879520416259",
         "Matplotlib, Release 2.0.2\nGridSpec with Varying Cell Sizes\nBy default, GridSpec creates cells of equal sizes. You can adjust relative heights and widths of rows and\ncolumns. Note that absolute values are meaningless, only their relative ratios matter.\ngs = gridspec.GridSpec(2, 2,\nwidth_ratios=[1, 2],\nheight_ratios=[4, 1]\n)\nax1 = plt.subplot(gs[0])\nax2 = plt.subplot(gs[1])\n3.1. Introductory 39",
         "0.089202880859375",
         "matplotlib_41-61_pdf.pdf ~ 6",
         "\nMatplotlib, Release 2.0.2\n GridSpec using SubplotSpec\nYou can create GridSpec from the SubplotSpec, in which case its layout parameters are set to that of the location of the given SubplotSpec.\n    gs0 = gridspec.GridSpec(1, 2)\ngs00 = gridspec.GridSpecFromSubplotSpec(3, 3, subplot_spec=gs0[0])\ngs01 = gridspec.GridSpecFromSubplotSpec(3, 3, subplot_spec=gs0[1])\n  GirdSpec Inside GridSpec\n   ax1\n    ax4\n  ax5\n   ax2\nax3\nax6\nA Complex Nested GridSpec using SubplotSpec\nHere’s a more sophisticated example of nested GridSpec where we put a box around each cell of the outer 4x4 grid, by hiding appropriate spines in each of the inner 3x3 grids.\n 38 Chapter3. Tutorials\n\n",
         "0.0313182566597771",
         "0.1081081081081081",
         "505",
         "0.0313182566597771",
         "0.1081081081081081",
         "504",
         "0.0313182566597771",
         "0.1081081081081081",
         "505"
        ]
       ],
       "shape": {
        "columns": 19,
        "rows": 1
       }
      },
      "text/html": [
       "<div>\n",
       "<style scoped>\n",
       "    .dataframe tbody tr th:only-of-type {\n",
       "        vertical-align: middle;\n",
       "    }\n",
       "\n",
       "    .dataframe tbody tr th {\n",
       "        vertical-align: top;\n",
       "    }\n",
       "\n",
       "    .dataframe thead th {\n",
       "        text-align: right;\n",
       "    }\n",
       "</style>\n",
       "<table border=\"1\" class=\"dataframe\">\n",
       "  <thead>\n",
       "    <tr style=\"text-align: right;\">\n",
       "      <th></th>\n",
       "      <th>pageNumber_pypdf</th>\n",
       "      <th>pdfId_pypdf</th>\n",
       "      <th>pageContent_pypdf</th>\n",
       "      <th>extractionTimeSeconds_pypdf</th>\n",
       "      <th>pageContent_pymupdf</th>\n",
       "      <th>extractionTimeSeconds_pymupdf</th>\n",
       "      <th>pageContent_pdfminer</th>\n",
       "      <th>extractionTimeSeconds_pdfminer</th>\n",
       "      <th>pdfId</th>\n",
       "      <th>text</th>\n",
       "      <th>pypdf_bleu</th>\n",
       "      <th>pypdf_jaccard</th>\n",
       "      <th>pypdf_levenshtein</th>\n",
       "      <th>pymupdf_bleu</th>\n",
       "      <th>pymupdf_jaccard</th>\n",
       "      <th>pymupdf_levenshtein</th>\n",
       "      <th>pdfminer_bleu</th>\n",
       "      <th>pdfminer_jaccard</th>\n",
       "      <th>pdfminer_levenshtein</th>\n",
       "    </tr>\n",
       "  </thead>\n",
       "  <tbody>\n",
       "    <tr>\n",
       "      <th>5</th>\n",
       "      <td>6.0</td>\n",
       "      <td>matplotlib_41-61_pdf.pdf ~ 6</td>\n",
       "      <td>Matplotlib, Release 2.0.2\\nGridSpec with Varyi...</td>\n",
       "      <td>0.087429</td>\n",
       "      <td>Matplotlib, Release 2.0.2\\nGridSpec with Varyi...</td>\n",
       "      <td>0.005688</td>\n",
       "      <td>Matplotlib, Release 2.0.2\\nGridSpec with Varyi...</td>\n",
       "      <td>0.089203</td>\n",
       "      <td>matplotlib_41-61_pdf.pdf ~ 6</td>\n",
       "      <td>\\nMatplotlib, Release 2.0.2\\n GridSpec using S...</td>\n",
       "      <td>0.031318</td>\n",
       "      <td>0.108108</td>\n",
       "      <td>505</td>\n",
       "      <td>0.031318</td>\n",
       "      <td>0.108108</td>\n",
       "      <td>504</td>\n",
       "      <td>0.031318</td>\n",
       "      <td>0.108108</td>\n",
       "      <td>505</td>\n",
       "    </tr>\n",
       "  </tbody>\n",
       "</table>\n",
       "</div>"
      ],
      "text/plain": [
       "   pageNumber_pypdf                   pdfId_pypdf  \\\n",
       "5               6.0  matplotlib_41-61_pdf.pdf ~ 6   \n",
       "\n",
       "                                   pageContent_pypdf  \\\n",
       "5  Matplotlib, Release 2.0.2\\nGridSpec with Varyi...   \n",
       "\n",
       "   extractionTimeSeconds_pypdf  \\\n",
       "5                     0.087429   \n",
       "\n",
       "                                 pageContent_pymupdf  \\\n",
       "5  Matplotlib, Release 2.0.2\\nGridSpec with Varyi...   \n",
       "\n",
       "   extractionTimeSeconds_pymupdf  \\\n",
       "5                       0.005688   \n",
       "\n",
       "                                pageContent_pdfminer  \\\n",
       "5  Matplotlib, Release 2.0.2\\nGridSpec with Varyi...   \n",
       "\n",
       "   extractionTimeSeconds_pdfminer                         pdfId  \\\n",
       "5                        0.089203  matplotlib_41-61_pdf.pdf ~ 6   \n",
       "\n",
       "                                                text  pypdf_bleu  \\\n",
       "5  \\nMatplotlib, Release 2.0.2\\n GridSpec using S...    0.031318   \n",
       "\n",
       "   pypdf_jaccard  pypdf_levenshtein  pymupdf_bleu  pymupdf_jaccard  \\\n",
       "5       0.108108                505      0.031318         0.108108   \n",
       "\n",
       "   pymupdf_levenshtein  pdfminer_bleu  pdfminer_jaccard  pdfminer_levenshtein  \n",
       "5                  504       0.031318          0.108108                   505  "
      ]
     },
     "execution_count": 16,
     "metadata": {},
     "output_type": "execute_result"
    }
   ],
   "source": [
    "df[df['extractionTimeSeconds_pdfminer'] == desc.loc[\"max\", \"extractionTimeSeconds_pdfminer\"]]"
   ]
  },
  {
   "cell_type": "markdown",
   "id": "416fba9a-0091-43c4-bdae-5cc5c95cc57d",
   "metadata": {},
   "source": [
    "## Group by PDF name"
   ]
  },
  {
   "cell_type": "code",
   "execution_count": 17,
   "id": "65fa5393-c753-48a7-8ed3-27d258850017",
   "metadata": {},
   "outputs": [
    {
     "data": {
      "application/vnd.microsoft.datawrangler.viewer.v0+json": {
       "columns": [
        {
         "name": "index",
         "rawType": "int64",
         "type": "integer"
        },
        {
         "name": "pageNumber_pypdf",
         "rawType": "float64",
         "type": "float"
        },
        {
         "name": "pdfId_pypdf",
         "rawType": "object",
         "type": "string"
        },
        {
         "name": "pageContent_pypdf",
         "rawType": "object",
         "type": "string"
        },
        {
         "name": "extractionTimeSeconds_pypdf",
         "rawType": "float64",
         "type": "float"
        },
        {
         "name": "pageContent_pymupdf",
         "rawType": "object",
         "type": "string"
        },
        {
         "name": "extractionTimeSeconds_pymupdf",
         "rawType": "float64",
         "type": "float"
        },
        {
         "name": "pageContent_pdfminer",
         "rawType": "object",
         "type": "string"
        },
        {
         "name": "extractionTimeSeconds_pdfminer",
         "rawType": "float64",
         "type": "float"
        },
        {
         "name": "pdfId",
         "rawType": "object",
         "type": "string"
        },
        {
         "name": "text",
         "rawType": "object",
         "type": "string"
        },
        {
         "name": "pypdf_bleu",
         "rawType": "float64",
         "type": "float"
        },
        {
         "name": "pypdf_jaccard",
         "rawType": "float64",
         "type": "float"
        },
        {
         "name": "pypdf_levenshtein",
         "rawType": "int64",
         "type": "integer"
        },
        {
         "name": "pymupdf_bleu",
         "rawType": "float64",
         "type": "float"
        },
        {
         "name": "pymupdf_jaccard",
         "rawType": "float64",
         "type": "float"
        },
        {
         "name": "pymupdf_levenshtein",
         "rawType": "int64",
         "type": "integer"
        },
        {
         "name": "pdfminer_bleu",
         "rawType": "float64",
         "type": "float"
        },
        {
         "name": "pdfminer_jaccard",
         "rawType": "float64",
         "type": "float"
        },
        {
         "name": "pdfminer_levenshtein",
         "rawType": "int64",
         "type": "integer"
        },
        {
         "name": "pdfName",
         "rawType": "object",
         "type": "string"
        }
       ],
       "ref": "1b9f66d6-af1d-45e1-9464-2c82d025238c",
       "rows": [
        [
         "10",
         "11.0",
         "matplotlib_41-61_pdf.pdf ~ 11",
         "Matplotlib, Release 2.0.2\n0.0 0.5 1.0\nx-label\n1.0\n1.5\n2.0y-label\nTitle\n0.0 0.5 1.0\nx-label\n1.0\n1.5\n2.0y-label\nTitle\n0.0 0.5 1.0\nx-label\n1.0\n1.5\n2.0y-label\nTitle\n0.0 0.5 1.0\nx-label\n1.0\n1.5\n2.0y-label\nTitle\ntight_layout() can take keyword arguments of pad, w_pad and h_pad. These control the extra padding\naround the ﬁgure border and between subplots. The pads are speciﬁed in fraction of fontsize.\nplt.tight_layout(pad=0.4, w_pad=0.5, h_pad=1.0)\n44 Chapter 3. Tutorials",
         "0.0059778690338134",
         "Matplotlib, Release 2.0.2\n0.0\n0.5\n1.0\nx-label\n1.0\n1.5\n2.0\ny-label\nTitle\n0.0\n0.5\n1.0\nx-label\n1.0\n1.5\n2.0\ny-label\nTitle\n0.0\n0.5\n1.0\nx-label\n1.0\n1.5\n2.0\ny-label\nTitle\n0.0\n0.5\n1.0\nx-label\n1.0\n1.5\n2.0\ny-label\nTitle\ntight_layout() can take keyword arguments of pad, w_pad and h_pad. These control the extra padding\naround the ﬁgure border and between subplots. The pads are speciﬁed in fraction of fontsize.\nplt.tight_layout(pad=0.4, w_pad=0.5, h_pad=1.0)\n44\nChapter 3. Tutorials\n",
         "0.0008070468902587",
         "Matplotlib, Release 2.0.2\n0.0 0.5 1.0\nx-label\n1.0\n1.5\n2.0y-label\nTitle\n0.0 0.5 1.0\nx-label\n1.0\n1.5\n2.0y-label\nTitle\n0.0 0.5 1.0\nx-label\n1.0\n1.5\n2.0y-label\nTitle\n0.0 0.5 1.0\nx-label\n1.0\n1.5\n2.0y-label\nTitle\ntight_layout() can take keyword arguments of pad, w_pad and h_pad. These control the extra padding\naround the ﬁgure border and between subplots. The pads are speciﬁed in fraction of fontsize.\nplt.tight_layout(pad=0.4, w_pad=0.5, h_pad=1.0)\n44 Chapter 3. Tutorials",
         "0.0049159526824951",
         "matplotlib_41-61_pdf.pdf ~ 11",
         "  \nMatplotlib, Release 2.0.2\n  2.0\n1.5\n1.0\n0.0\n2.0\n1.5\n1.0\n0.0\n0.5 1.0 Title\n2.0\n1.5\n1.0 2.0\n1.5\n1.0\n0.0\n0.5 1.0 Title\nTitle\nTitle\n0.5 1.0 x-label\n0.0\n0.5 1.0 x-label\n y-label\n x-label\n y-label\nx-label\n y-label y-label\ntight_layout() will also adjust spacing between subplots to minimize the overlaps. plt.tight_layout()\n    3.1. Introductory 43\n\n",
         "0.0976385270572296",
         "0.2068965517241379",
         "280",
         "0.0974071748814271",
         "0.2456140350877192",
         "277",
         "0.0976385270572296",
         "0.2068965517241379",
         "280",
         "matplotlib_41-61_pdf.pdf "
        ],
        [
         "43",
         "12.0",
         "matplotlib_1-21_pdf.pdf ~ 12",
         "CHAPTER\nTWO\nINSTALLING\nThere are many diﬀerent ways to install matplotlib, and the best way depends on what operating system you\nare using, what you already have installed, and how you want to use it. To avoid wading through all the\ndetails (and potential complications) on this page, there are several convenient options.\n2.1 Installing pre-built packages\n2.1.1 Most platforms : scientiﬁc Python distributions\nThe ﬁrst option is to use one of the pre-packaged python distributions that already provide matplotlib built-in.\nThe Continuum.io Python distribution (Anaconda or miniconda) and the Enthought distribution (Canopy)\nare both excellent choices that “just work” out of the box for Windows, OSX and common Linux platforms.\nBoth of these distributions include matplotlib and lots of other useful tools.\n2.1.2 Linux : using your package manager\nIf you are on Linux, you might prefer to use your package manager. matplotlib is packaged for almost every\nmajor Linux distribution.\n• Debian / Ubuntu : sudo apt-get install python-matplotlib\n• Fedora / Redhat : sudo yum install python-matplotlib\n2.1.3 Mac OSX : using pip\nIf you are on Mac OSX you can probably install matplotlib binaries using the standard Python installation\nprogram pip. See Installing OSX binary wheels.\n2.1.4 Windows\nIf you don’t already have Python installed, we recommend using one of the scipy-stack compatible Python\ndistributions such as WinPython, Python(x,y), Enthought Canopy, or Continuum Anaconda, which have\nmatplotlib and many of its dependencies, plus other useful packages, preinstalled.\nFor standard Python installations, install matplotlib using pip:\n5",
         "0.0045580863952636",
         "CHAPTER\nTWO\nINSTALLING\nThere are many diﬀerent ways to install matplotlib, and the best way depends on what operating system you\nare using, what you already have installed, and how you want to use it. To avoid wading through all the\ndetails (and potential complications) on this page, there are several convenient options.\n2.1 Installing pre-built packages\n2.1.1 Most platforms : scientiﬁc Python distributions\nThe ﬁrst option is to use one of the pre-packaged python distributions that already provide matplotlib built-in.\nThe Continuum.io Python distribution (Anaconda or miniconda) and the Enthought distribution (Canopy)\nare both excellent choices that “just work” out of the box for Windows, OSX and common Linux platforms.\nBoth of these distributions include matplotlib and lots of other useful tools.\n2.1.2 Linux : using your package manager\nIf you are on Linux, you might prefer to use your package manager. matplotlib is packaged for almost every\nmajor Linux distribution.\n• Debian / Ubuntu : sudo apt-get install python-matplotlib\n• Fedora / Redhat : sudo yum install python-matplotlib\n2.1.3 Mac OSX : using pip\nIf you are on Mac OSX you can probably install matplotlib binaries using the standard Python installation\nprogram pip. See Installing OSX binary wheels.\n2.1.4 Windows\nIf you don’t already have Python installed, we recommend using one of the scipy-stack compatible Python\ndistributions such as WinPython, Python(x,y), Enthought Canopy, or Continuum Anaconda, which have\nmatplotlib and many of its dependencies, plus other useful packages, preinstalled.\nFor standard Python installations, install matplotlib using pip:\n5\n",
         "0.0014500617980957",
         "CHAPTER\nTWO\nINSTALLING\nThere are many diﬀerent ways to install matplotlib, and the best way depends on what operating system you\nare using, what you already have installed, and how you want to use it. To avoid wading through all the\ndetails (and potential complications) on this page, there are several convenient options.\n2.1 Installing pre-built packages\n2.1.1 Most platforms : scientiﬁc Python distributions\nThe ﬁrst option is to use one of the pre-packaged python distributions that already provide matplotlib built-in.\nThe Continuum.io Python distribution (Anaconda or miniconda) and the Enthought distribution (Canopy)\nare both excellent choices that “just work” out of the box for Windows, OSX and common Linux platforms.\nBoth of these distributions include matplotlib and lots of other useful tools.\n2.1.2 Linux : using your package manager\nIf you are on Linux, you might prefer to use your package manager. matplotlib is packaged for almost every\nmajor Linux distribution.\n• Debian / Ubuntu : sudo apt-get install python-matplotlib\n• Fedora / Redhat : sudo yum install python-matplotlib\n2.1.3 Mac OSX : using pip\nIf you are on Mac OSX you can probably install matplotlib binaries using the standard Python installation\nprogram pip. See Installing OSX binary wheels.\n2.1.4 Windows\nIf you don’t already have Python installed, we recommend using one of the scipy-stack compatible Python\ndistributions such as WinPython, Python(x,y), Enthought Canopy, or Continuum Anaconda, which have\nmatplotlib and many of its dependencies, plus other useful packages, preinstalled.\nFor standard Python installations, install matplotlib using pip:\n5",
         "0.0046150684356689",
         "matplotlib_1-21_pdf.pdf ~ 12",
         "\nMatplotlib, Release 2.0.2\n figure generating code (Pyplot tutorial). The Matplotlib frontend or Matplotlib API is the set of classes that do the heavy lifting, creating and managing figures, text, lines, plots and so on (Artist tutorial). This is an abstract interface that knows nothing about output. The backends are device-dependent drawing devices, aka renderers, that transform the frontend representation to hardcopy or a display device (What is a backend?). Example backends: PS creates PostScript® hardcopy, SVG creates Scalable Vector Graphics hardcopy, Agg creates PNG output using the high quality Anti-Grain Geometry library that ships with Matplotlib, GTK embeds Matplotlib in a Gtk+ application, GTKAgg uses the Anti-Grain renderer to create a figure and embed it in a Gtk+ application, and so on for PDF, WxWidgets, Tkinter, etc.\nMatplotlib is used by many people in many different contexts. Some people want to automatically generate PostScript files to send to a printer or publishers. Others deploy Matplotlib on a web application server to generate PNG output for inclusion in dynamically-generated web pages. Some use Matplotlib interactively from the Python shell in Tkinter on WindowsTM. My primary use is to embed Matplotlib in a Gtk+ EEG application that runs on Windows, Linux and Macintosh OS X.\n 4 Chapter1. Introduction\n\n",
         "0.0042118540551655",
         "0.0659340659340659",
         "1243",
         "0.0042118540551655",
         "0.0659340659340659",
         "1243",
         "0.0042118540551655",
         "0.0659340659340659",
         "1243",
         "matplotlib_1-21_pdf.pdf "
        ]
       ],
       "shape": {
        "columns": 20,
        "rows": 2
       }
      },
      "text/html": [
       "<div>\n",
       "<style scoped>\n",
       "    .dataframe tbody tr th:only-of-type {\n",
       "        vertical-align: middle;\n",
       "    }\n",
       "\n",
       "    .dataframe tbody tr th {\n",
       "        vertical-align: top;\n",
       "    }\n",
       "\n",
       "    .dataframe thead th {\n",
       "        text-align: right;\n",
       "    }\n",
       "</style>\n",
       "<table border=\"1\" class=\"dataframe\">\n",
       "  <thead>\n",
       "    <tr style=\"text-align: right;\">\n",
       "      <th></th>\n",
       "      <th>pageNumber_pypdf</th>\n",
       "      <th>pdfId_pypdf</th>\n",
       "      <th>pageContent_pypdf</th>\n",
       "      <th>extractionTimeSeconds_pypdf</th>\n",
       "      <th>pageContent_pymupdf</th>\n",
       "      <th>extractionTimeSeconds_pymupdf</th>\n",
       "      <th>pageContent_pdfminer</th>\n",
       "      <th>extractionTimeSeconds_pdfminer</th>\n",
       "      <th>pdfId</th>\n",
       "      <th>text</th>\n",
       "      <th>pypdf_bleu</th>\n",
       "      <th>pypdf_jaccard</th>\n",
       "      <th>pypdf_levenshtein</th>\n",
       "      <th>pymupdf_bleu</th>\n",
       "      <th>pymupdf_jaccard</th>\n",
       "      <th>pymupdf_levenshtein</th>\n",
       "      <th>pdfminer_bleu</th>\n",
       "      <th>pdfminer_jaccard</th>\n",
       "      <th>pdfminer_levenshtein</th>\n",
       "      <th>pdfName</th>\n",
       "    </tr>\n",
       "  </thead>\n",
       "  <tbody>\n",
       "    <tr>\n",
       "      <th>10</th>\n",
       "      <td>11.0</td>\n",
       "      <td>matplotlib_41-61_pdf.pdf ~ 11</td>\n",
       "      <td>Matplotlib, Release 2.0.2\\n0.0 0.5 1.0\\nx-labe...</td>\n",
       "      <td>0.005978</td>\n",
       "      <td>Matplotlib, Release 2.0.2\\n0.0\\n0.5\\n1.0\\nx-la...</td>\n",
       "      <td>0.000807</td>\n",
       "      <td>Matplotlib, Release 2.0.2\\n0.0 0.5 1.0\\nx-labe...</td>\n",
       "      <td>0.004916</td>\n",
       "      <td>matplotlib_41-61_pdf.pdf ~ 11</td>\n",
       "      <td>\\nMatplotlib, Release 2.0.2\\n  2.0\\n1.5\\n1.0...</td>\n",
       "      <td>0.097639</td>\n",
       "      <td>0.206897</td>\n",
       "      <td>280</td>\n",
       "      <td>0.097407</td>\n",
       "      <td>0.245614</td>\n",
       "      <td>277</td>\n",
       "      <td>0.097639</td>\n",
       "      <td>0.206897</td>\n",
       "      <td>280</td>\n",
       "      <td>matplotlib_41-61_pdf.pdf</td>\n",
       "    </tr>\n",
       "    <tr>\n",
       "      <th>43</th>\n",
       "      <td>12.0</td>\n",
       "      <td>matplotlib_1-21_pdf.pdf ~ 12</td>\n",
       "      <td>CHAPTER\\nTWO\\nINSTALLING\\nThere are many diﬀer...</td>\n",
       "      <td>0.004558</td>\n",
       "      <td>CHAPTER\\nTWO\\nINSTALLING\\nThere are many diﬀer...</td>\n",
       "      <td>0.001450</td>\n",
       "      <td>CHAPTER\\nTWO\\nINSTALLING\\nThere are many diﬀer...</td>\n",
       "      <td>0.004615</td>\n",
       "      <td>matplotlib_1-21_pdf.pdf ~ 12</td>\n",
       "      <td>\\nMatplotlib, Release 2.0.2\\n figure generatin...</td>\n",
       "      <td>0.004212</td>\n",
       "      <td>0.065934</td>\n",
       "      <td>1243</td>\n",
       "      <td>0.004212</td>\n",
       "      <td>0.065934</td>\n",
       "      <td>1243</td>\n",
       "      <td>0.004212</td>\n",
       "      <td>0.065934</td>\n",
       "      <td>1243</td>\n",
       "      <td>matplotlib_1-21_pdf.pdf</td>\n",
       "    </tr>\n",
       "  </tbody>\n",
       "</table>\n",
       "</div>"
      ],
      "text/plain": [
       "    pageNumber_pypdf                    pdfId_pypdf  \\\n",
       "10              11.0  matplotlib_41-61_pdf.pdf ~ 11   \n",
       "43              12.0   matplotlib_1-21_pdf.pdf ~ 12   \n",
       "\n",
       "                                    pageContent_pypdf  \\\n",
       "10  Matplotlib, Release 2.0.2\\n0.0 0.5 1.0\\nx-labe...   \n",
       "43  CHAPTER\\nTWO\\nINSTALLING\\nThere are many diﬀer...   \n",
       "\n",
       "    extractionTimeSeconds_pypdf  \\\n",
       "10                     0.005978   \n",
       "43                     0.004558   \n",
       "\n",
       "                                  pageContent_pymupdf  \\\n",
       "10  Matplotlib, Release 2.0.2\\n0.0\\n0.5\\n1.0\\nx-la...   \n",
       "43  CHAPTER\\nTWO\\nINSTALLING\\nThere are many diﬀer...   \n",
       "\n",
       "    extractionTimeSeconds_pymupdf  \\\n",
       "10                       0.000807   \n",
       "43                       0.001450   \n",
       "\n",
       "                                 pageContent_pdfminer  \\\n",
       "10  Matplotlib, Release 2.0.2\\n0.0 0.5 1.0\\nx-labe...   \n",
       "43  CHAPTER\\nTWO\\nINSTALLING\\nThere are many diﬀer...   \n",
       "\n",
       "    extractionTimeSeconds_pdfminer                          pdfId  \\\n",
       "10                        0.004916  matplotlib_41-61_pdf.pdf ~ 11   \n",
       "43                        0.004615   matplotlib_1-21_pdf.pdf ~ 12   \n",
       "\n",
       "                                                 text  pypdf_bleu  \\\n",
       "10    \\nMatplotlib, Release 2.0.2\\n  2.0\\n1.5\\n1.0...    0.097639   \n",
       "43  \\nMatplotlib, Release 2.0.2\\n figure generatin...    0.004212   \n",
       "\n",
       "    pypdf_jaccard  pypdf_levenshtein  pymupdf_bleu  pymupdf_jaccard  \\\n",
       "10       0.206897                280      0.097407         0.245614   \n",
       "43       0.065934               1243      0.004212         0.065934   \n",
       "\n",
       "    pymupdf_levenshtein  pdfminer_bleu  pdfminer_jaccard  \\\n",
       "10                  277       0.097639          0.206897   \n",
       "43                 1243       0.004212          0.065934   \n",
       "\n",
       "    pdfminer_levenshtein                    pdfName  \n",
       "10                   280  matplotlib_41-61_pdf.pdf   \n",
       "43                  1243   matplotlib_1-21_pdf.pdf   "
      ]
     },
     "execution_count": 17,
     "metadata": {},
     "output_type": "execute_result"
    }
   ],
   "source": [
    "df['pdfName'] = df['pdfId_pypdf'].str.split('~').apply(lambda x: x[0])\n",
    "df.sample(2)"
   ]
  },
  {
   "cell_type": "code",
   "execution_count": 18,
   "id": "af77eaea-825a-41d8-9040-c3f24b2f9bed",
   "metadata": {},
   "outputs": [],
   "source": [
    "grouped_for_ext_time = df.groupby('pdfName').agg(\n",
    "    {\n",
    "        'extractionTimeSeconds_pypdf': 'sum',\n",
    "        'extractionTimeSeconds_pymupdf': 'sum',\n",
    "        'extractionTimeSeconds_pdfminer': 'sum'\n",
    "    }\n",
    ")"
   ]
  },
  {
   "cell_type": "markdown",
   "id": "4a22650a-6dbb-425d-9ace-be675cab31ed",
   "metadata": {},
   "source": [
    "# General Plotting Function"
   ]
  },
  {
   "cell_type": "code",
   "execution_count": 19,
   "id": "13677c8b-cef0-439b-9c2b-737fd38da910",
   "metadata": {},
   "outputs": [],
   "source": [
    "import matplotlib.pyplot as plt"
   ]
  },
  {
   "cell_type": "code",
   "execution_count": 20,
   "id": "9d6714e0-4b43-4f86-8cd2-1c1f5f993e51",
   "metadata": {},
   "outputs": [],
   "source": [
    "def plot_data(\n",
    "    ax, \n",
    "    x,\n",
    "    y,\n",
    "    plot_type: str = 'line',\n",
    "    label: str = None,\n",
    "    color: str = None,\n",
    "    marker: str = 'o',\n",
    "    markersize: int = 3,\n",
    "    linestyle: str = '-',\n",
    "    align: str = 'center',\n",
    "    alpha: float = 0.5,\n",
    "    width: float = 0.4,\n",
    "    size: int = 25,\n",
    "    legend_loc = 'best',\n",
    ") -> None:\n",
    "    if plot_type == 'line':\n",
    "        ax.plot(\n",
    "            x,\n",
    "            y,\n",
    "            label=label,\n",
    "            color=color,\n",
    "            linestyle=linestyle,\n",
    "            marker=marker,\n",
    "            markersize=markersize\n",
    "        )\n",
    "\n",
    "    if plot_type == 'bar':\n",
    "        ax.bar(x, y, label=label, color=color, alpha=alpha, align=align, width=width)\n",
    "\n",
    "    if legend_loc:\n",
    "        ax.legend(loc=legend_loc)\n",
    "\n",
    "    ax.grid(True, linestyle='--', alpha=0.6)"
   ]
  },
  {
   "cell_type": "markdown",
   "id": "71943b3e-38f6-423d-b61f-d41ee5af2ae8",
   "metadata": {},
   "source": [
    "# Extraction Times plotting"
   ]
  },
  {
   "cell_type": "code",
   "execution_count": 21,
   "id": "723a5004-6816-4a7b-8690-248ace35850f",
   "metadata": {},
   "outputs": [],
   "source": [
    "def plot_extraction_times(\n",
    "    grouped_df: pd.DataFrame,\n",
    "    libraries: list[str] = ['pypdf', 'pymupdf', 'pdfminer'],\n",
    "    time_col_prefix: str = 'extractionTimeSeconds_',\n",
    "    figsize: tuple[int, int] = (14, 8),\n",
    "    colors: dict[str, str] = None,\n",
    "    markers: dict[str, str] = None\n",
    ") -> None:\n",
    "    fig, ax = plt.subplots(figsize=figsize)\n",
    "\n",
    "    default_colors = ['#4C72B0', '#F28E2B', '#55A868', '#8C564B', '#D62728']\n",
    "    default_markers = ['o', 's', '^', 'D', 'v', 'p']\n",
    "\n",
    "    if colors is None:\n",
    "        colors = {\n",
    "            i: default_colors[i % len(default_colors)]\n",
    "            for i, lib in enumerate(libraries)\n",
    "        }\n",
    "\n",
    "    if markers is None:\n",
    "        markers = {\n",
    "            i: default_markers[i % len(default_markers)]\n",
    "            for i, lib in enumerate(libraries)\n",
    "        }\n",
    "\n",
    "    for i, library in enumerate(libraries):\n",
    "        column = f'{time_col_prefix}{library}'\n",
    "        plot_data(\n",
    "            ax, \n",
    "            grouped_df.index,\n",
    "            grouped_df[column],\n",
    "            plot_type='line',\n",
    "            label=library,\n",
    "            color=colors[i],\n",
    "            marker=markers[i]\n",
    "        )\n",
    "\n",
    "    ax.set_title('Time taken for each PDF extraction', fontsize=16)\n",
    "    ax.set_ylabel('Time taken (s.)', fontsize=14)\n",
    "    ax.tick_params(axis='x', rotation=60)\n",
    "\n",
    "    plt.tight_layout()\n",
    "    plt.show()\n",
    "\n",
    "    return fig, ax"
   ]
  },
  {
   "cell_type": "code",
   "execution_count": 22,
   "id": "f99e7115-cbb9-4559-8d0f-aa672e039519",
   "metadata": {},
   "outputs": [
    {
     "data": {
      "image/png": "[encoded data removed]",
      "text/plain": [
       "<Figure size 1400x800 with 1 Axes>"
      ]
     },
     "metadata": {},
     "output_type": "display_data"
    },
    {
     "data": {
      "text/plain": [
       "(<Figure size 1400x800 with 1 Axes>,\n",
       " <Axes: title={'center': 'Time taken for each PDF extraction'}, ylabel='Time taken (s.)'>)"
      ]
     },
     "execution_count": 22,
     "metadata": {},
     "output_type": "execute_result"
    }
   ],
   "source": [
    "plot_extraction_times(grouped_for_ext_time)"
   ]
  },
  {
   "cell_type": "markdown",
   "id": "d91c915d-dba9-4482-8884-393854cd164d",
   "metadata": {},
   "source": [
    "## Overall summary of Times"
   ]
  },
  {
   "cell_type": "code",
   "execution_count": 23,
   "id": "58266235-be9b-4f8b-a384-c35f5ea70a1c",
   "metadata": {},
   "outputs": [],
   "source": [
    "import numpy as np"
   ]
  },
  {
   "cell_type": "code",
   "execution_count": 24,
   "id": "994f0e21-6d23-4291-a372-75ebae8ec1a3",
   "metadata": {},
   "outputs": [],
   "source": [
    "data = {\n",
    "    'pypdf': {\n",
    "        'total_time(s)': 12,\n",
    "        'speed (p/s)': 2\n",
    "    }\n",
    "}"
   ]
  },
  {
   "cell_type": "code",
   "execution_count": 25,
   "id": "c7be4c65-9600-4e74-b9c8-37255d11ddc3",
   "metadata": {},
   "outputs": [],
   "source": [
    "data = {}\n",
    "number_of_pages = df.shape[0]\n",
    "for lib in libraries:\n",
    "    column = f'{time_col_prefix}{lib}'\n",
    "    total_time = df[column].sum()\n",
    "    speed = number_of_pages / total_time\n",
    "\n",
    "    data[lib] = {'total_time (s)': total_time, 'speed (p/s)': speed}"
   ]
  },
  {
   "cell_type": "code",
   "execution_count": 26,
   "id": "35ae0fea-81ac-43a4-8612-e4ccef3f87c2",
   "metadata": {},
   "outputs": [
    {
     "data": {
      "text/plain": [
       "{'pypdf': {'total_time (s)': np.float64(0.43280363082885465),\n",
       "  'speed (p/s)': np.float64(138.63099966397013)},\n",
       " 'pymupdf': {'total_time (s)': np.float64(0.09605145454406426),\n",
       "  'speed (p/s)': np.float64(624.6651889324028)},\n",
       " 'pdfminer': {'total_time (s)': np.float64(0.4319446086883518),\n",
       "  'speed (p/s)': np.float64(138.90669959325737)}}"
      ]
     },
     "execution_count": 26,
     "metadata": {},
     "output_type": "execute_result"
    }
   ],
   "source": [
    "data"
   ]
  },
  {
   "cell_type": "code",
   "execution_count": 27,
   "id": "5d81af16-96ca-44ce-ba25-2bf1aa86099f",
   "metadata": {},
   "outputs": [],
   "source": [
    "def compare_pdf_libraries_time_summary(data: dict[str, dict[str, float]]) -> None:\n",
    "    \"\"\"\n",
    "    Compare total time and speed for different PDF libraries.\n",
    "\n",
    "    Args:\n",
    "        data: dictionary containing time and speed metrics for each library.\n",
    "    \"\"\"\n",
    "    libraries = list(data.keys())\n",
    "    total_times = [data[lib][\"total_time (s)\"] for lib in libraries]\n",
    "    speeds = [data[lib][\"speed (p/s)\"] for lib in libraries]\n",
    "\n",
    "    fig, ax = plt.subplots(figsize=(10, 4))\n",
    "    x = np.arange(len(libraries))\n",
    "    width = 0.25  # Adjusted width for better spacing\n",
    "\n",
    "    # Colors for the bars\n",
    "    colors = {\n",
    "        \"Total Time (s)\": \"#FF6347\",  # Tomato\n",
    "        \"Speed\": \"#32CD32\",  # Lime Green\n",
    "    }\n",
    "\n",
    "    # Plotting the bars using the plot_data helper function\n",
    "    plot_data(\n",
    "        ax,\n",
    "        x,\n",
    "        total_times,\n",
    "        plot_type=\"bar\",\n",
    "        label=\"Total Time (s)\",\n",
    "        color=colors[\"Total Time (s)\"],\n",
    "        width=width,\n",
    "    )\n",
    "    plot_data(\n",
    "        ax,\n",
    "        x + width,\n",
    "        speeds,\n",
    "        plot_type=\"bar\",\n",
    "        label=\"Speed\",\n",
    "        color=colors[\"Speed\"],\n",
    "        width=width,\n",
    "    )\n",
    "    \n",
    "    ax.set_ylabel(\"Values\", fontsize=12)\n",
    "    ax.set_title(\n",
    "        \"Comparison of PDF Libraries: Total Time and Speed\", fontsize=14\n",
    "    )\n",
    "\n",
    "    ax.set_xticks(x)\n",
    "    ax.set_xticklabels(libraries)\n",
    "    ax.legend()\n",
    "\n",
    "    # Annotating the bars with the values\n",
    "    def add_annotations(bars, data_list) -> None:\n",
    "        \"\"\"Helper function to add annotations on bars.\"\"\"\n",
    "        for bar, value in zip(bars, data_list):\n",
    "            yval = bar.get_height()\n",
    "            ax.text(\n",
    "                bar.get_x() + bar.get_width() / 2,\n",
    "                yval,\n",
    "                f\"{value:.2f}\",\n",
    "                ha=\"center\",\n",
    "                va=\"bottom\",\n",
    "                color=\"black\",\n",
    "            )\n",
    "\n",
    "    # Adding annotations\n",
    "    add_annotations(ax.patches[: len(total_times)], total_times)\n",
    "    add_annotations(ax.patches[len(total_times) : ], speeds)\n",
    "    \n",
    "    plt.tight_layout()\n",
    "    plt.show()\n",
    "\n",
    "    return fig, ax"
   ]
  },
  {
   "cell_type": "code",
   "execution_count": 28,
   "id": "60cc4655-1b21-43ca-9e5f-46fe81a50e1b",
   "metadata": {},
   "outputs": [
    {
     "data": {
      "image/png": "[encoded data removed]",
      "text/plain": [
       "<Figure size 1000x400 with 1 Axes>"
      ]
     },
     "metadata": {},
     "output_type": "display_data"
    },
    {
     "data": {
      "text/plain": [
       "(<Figure size 1000x400 with 1 Axes>,\n",
       " <Axes: title={'center': 'Comparison of PDF Libraries: Total Time and Speed'}, ylabel='Values'>)"
      ]
     },
     "execution_count": 28,
     "metadata": {},
     "output_type": "execute_result"
    }
   ],
   "source": [
    "compare_pdf_libraries_time_summary(data)"
   ]
  },
  {
   "cell_type": "markdown",
   "id": "28662ed1-c4d6-460c-a1a7-44ce9492c480",
   "metadata": {},
   "source": [
    "# Key Observations:\n",
    "\n",
    "1. For the given set of PDFs, pypdf and pymupdf have similar extraction times.\n",
    "2. pymupdf is far superior in terms of speed, especially offering a linear increase in time as number of pages increase.\n",
    "3. Per the last graph, pymupdf on average is 5x faster than either pypdf or pdfminer.\n",
    "4. If the extraction quality is close to either of them, we have a clear winner."
   ]
  },
  {
   "cell_type": "markdown",
   "id": "865d6190",
   "metadata": {},
   "source": [
    "## Metric Visualizations"
   ]
  },
  {
   "cell_type": "code",
   "execution_count": 29,
   "id": "7a80ab5f",
   "metadata": {},
   "outputs": [
    {
     "data": {
      "application/vnd.microsoft.datawrangler.viewer.v0+json": {
       "columns": [
        {
         "name": "index",
         "rawType": "int64",
         "type": "integer"
        },
        {
         "name": "pageNumber_pypdf",
         "rawType": "float64",
         "type": "float"
        },
        {
         "name": "pdfId_pypdf",
         "rawType": "object",
         "type": "string"
        },
        {
         "name": "pageContent_pypdf",
         "rawType": "object",
         "type": "string"
        },
        {
         "name": "extractionTimeSeconds_pypdf",
         "rawType": "float64",
         "type": "float"
        },
        {
         "name": "pageContent_pymupdf",
         "rawType": "object",
         "type": "string"
        },
        {
         "name": "extractionTimeSeconds_pymupdf",
         "rawType": "float64",
         "type": "float"
        },
        {
         "name": "pageContent_pdfminer",
         "rawType": "object",
         "type": "string"
        },
        {
         "name": "extractionTimeSeconds_pdfminer",
         "rawType": "float64",
         "type": "float"
        },
        {
         "name": "pdfId",
         "rawType": "object",
         "type": "string"
        },
        {
         "name": "text",
         "rawType": "object",
         "type": "string"
        },
        {
         "name": "pypdf_bleu",
         "rawType": "float64",
         "type": "float"
        },
        {
         "name": "pypdf_jaccard",
         "rawType": "float64",
         "type": "float"
        },
        {
         "name": "pypdf_levenshtein",
         "rawType": "int64",
         "type": "integer"
        },
        {
         "name": "pymupdf_bleu",
         "rawType": "float64",
         "type": "float"
        },
        {
         "name": "pymupdf_jaccard",
         "rawType": "float64",
         "type": "float"
        },
        {
         "name": "pymupdf_levenshtein",
         "rawType": "int64",
         "type": "integer"
        },
        {
         "name": "pdfminer_bleu",
         "rawType": "float64",
         "type": "float"
        },
        {
         "name": "pdfminer_jaccard",
         "rawType": "float64",
         "type": "float"
        },
        {
         "name": "pdfminer_levenshtein",
         "rawType": "int64",
         "type": "integer"
        },
        {
         "name": "pdfName",
         "rawType": "object",
         "type": "string"
        }
       ],
       "ref": "d983d1cf-21ef-443b-a322-4c181a8b8cc8",
       "rows": [
        [
         "58",
         "2.0",
         "genai_pdf.pdf ~ 2",
         "Author: Prateek Mannem   \n \n  3 \n \n• Recognizing patterns \n• Creating new content based on what it's learned \n🚀 It's NOT just copying - it's CREATING something original! \nPotential Concerns (Because Nothing's Perfect) \nThe Good \n• Incredible productivity \n• Endless creativity \n• Solving complex problems quickly \nThe Challenging \n• Potential misinformation \n• Copyright questions \n• Ethical use of technology \nWho's Using This Magic? \n• Doctors (diagnosing diseases) \n• Artists (creating new designs) \n• Programmers (writing code) \n• Businesses (solving complex problems) \n• Researchers (exploring new ideas) \nThe Future Looks Bright! 🌈 \nGenerative AI isn't about replacing humans - it's about HELPING humans do amazing things \nfaster and more creatively. Think of it like a supercharged creativity and problem-solving \npartner. \nQuick Pro Tips \n• Be specific in your requests \n• Understand it's a tool, not a replacement for human creativity \n• Experiment and have fun! \nWant to Get Started? \nTry free tools like: ",
         "0.0091660022735595",
         "Author: Prateek Mannem \n \n \n \n3\n \n• Recognizing patterns \n• Creating new content based on what it's learned \n🚀 It's NOT just copying - it's CREATING something original! \nPotential Concerns (Because Nothing's Perfect) \nThe Good \n• Incredible productivity \n• Endless creativity \n• Solving complex problems quickly \nThe Challenging \n• Potential misinformation \n• Copyright questions \n• Ethical use of technology \nWho's Using This Magic? \n• Doctors (diagnosing diseases) \n• Artists (creating new designs) \n• Programmers (writing code) \n• Businesses (solving complex problems) \n• Researchers (exploring new ideas) \nThe Future Looks Bright! 🌈 \nGenerative AI isn't about replacing humans - it's about HELPING humans do amazing things \nfaster and more creatively. Think of it like a supercharged creativity and problem-solving \npartner. \nQuick Pro Tips \n• Be specific in your requests \n• Understand it's a tool, not a replacement for human creativity \n• Experiment and have fun! \nWant to Get Started? \nTry free tools like: \n",
         "0.0023212432861328",
         "Author: Prateek Mannem   \n \n  3 \n \n• Recognizing patterns \n• Creating new content based on what it's learned \n🚀 It's NOT just copying - it's CREATING something original! \nPotential Concerns (Because Nothing's Perfect) \nThe Good \n• Incredible productivity \n• Endless creativity \n• Solving complex problems quickly \nThe Challenging \n• Potential misinformation \n• Copyright questions \n• Ethical use of technology \nWho's Using This Magic? \n• Doctors (diagnosing diseases) \n• Artists (creating new designs) \n• Programmers (writing code) \n• Businesses (solving complex problems) \n• Researchers (exploring new ideas) \nThe Future Looks Bright! 🌈 \nGenerative AI isn't about replacing humans - it's about HELPING humans do amazing things \nfaster and more creatively. Think of it like a supercharged creativity and problem-solving \npartner. \nQuick Pro Tips \n• Be specific in your requests \n• Understand it's a tool, not a replacement for human creativity \n• Experiment and have fun! \nWant to Get Started? \nTry free tools like: ",
         "0.0087652206420898",
         "genai_pdf.pdf ~ 2",
         "\nWhat Exactly is Generative AI? 🤖✨ \n\nThink of Generative AI like a super-smart digital assistant that can create things from scratch. \nImagine having a friend who can: \n\n    Write stories \n    Draw pictures \n    Compose music \n    Write computer code \n    Solve complex problems \nAll by just understanding what you want! \n\nHow Does It Actually Work? \nPicture a massive library where an AI has read EVERYTHING. When you ask it to do \nsomething, it: \n\n    Understands your request \n    Pulls from its enormous \"knowledge bank\" \n    Creates something totally new \n    It's like having a genius friend who can instantly combine information in unique ways. \n\nReal-World Examples That'll Blow Your Mind \nArt Creation \n    For example, you can type \"robot playing guitar in a space cafe\" as a prompt \n    AI instantly generates a unique image matching your description \nWriting Help \n    Need a blog post about climate change? \n    AI can draft a complete, coherent article in minutes \nProblem Solving \n    Stuck on a math problem? \n    AI can break it down, explain steps, and show solutions\n\nCool Things to Know \n🌟 Generative AI learns by: \n\n    Studying massive amounts of data \n",
         "0.0056802988292028",
         "0.0987124463519313",
         "888",
         "0.0056802988292028",
         "0.0987124463519313",
         "887",
         "0.0056802988292028",
         "0.0987124463519313",
         "888",
         "genai_pdf.pdf "
        ],
        [
         "28",
         "1.0",
         "basketball_pdf.pdf ~ 1",
         "FromPeachBasketstoGlobalPhenomenon\nThestorybeginsinSpringfield, Massachusetts, 1891. Dr. JamesNaismith'ssimpleinventionof nailingpeachbasketstoagymnasiumwall hasevolvedintosomethingextraordinary.Today'sbasketball landscapeshowcasesasport that hasbrokenfreefromitsAmericanroots, becomingacultural forcethat bridgescontinentsandcultures. Thistransformationreflectsnot just athleticevolution, but abroaderstoryof global connectivityandsharedpassion.\nTheNewFaceofProfessionalBasketball\nTheNBA'stransformationtellsacompellingstoryof basketball'sglobalization. GonearethedayswhentheleaguewaspredominantlyAmerican. Today'sNBAfeaturestranscendentinternational talentslikeNikolaJokić, Joel Embiid, andGiannisAntetokounmpo–playerswhohaveredefinedexcellenceinthesport. Theirsuccessrepresentsmorethanindividualachievement; it symbolizesbasketball'spowertodiscoverandnurturetalent regardlessoforigin.\nNumbersThatSpeakVolumes\nThestatisticspaint avividpictureof basketball'sglobal reach. FIBA'slatest reportsindicatethat over450millionpeopleactivelyplaybasketball worldwide. TheNBA'sglobal broadcastreaches215countriesandterritoriesin47languages. Inthe2023-24season, 125international playersfrom40countriesgracedNBArostersonopeningnight. Perhapsmoststrikingly, Chinaaloneboasts300millionbasketball players–anumberthat exceedstheentireU.S. population.\nWomenBreakingBarriers\nThewomen'sgamehaswrittenitsownremarkablechapterinbasketball'sglobal story. TheWNBAcontinuestoexpanditsinternational influence, withstarslikeJonquel JonesandEziMagbegorleadingthecharge. AsWNBACommissionerCathyEngelbert notes, \"Women'sbasketball isexperiencingunprecedentedgrowth.\"Thisgrowthmanifestsinincreasedviewership, engagement, andparticipationacrossdemographics, creatingnewrolemodelsforaspiringfemaleathletesworldwide.\n2\n",
         "0.0258917808532714",
         "From Peach Baskets to Global Phenomenon\nThe story begins in Springfield, Massachusetts, 1891. Dr. James Naismith's simple invention\nof nailing peach baskets to a gymnasium wall has evolved into something extraordinary.\nToday's basketball landscape showcases a sport that has broken free from its American\nroots, becoming a cultural force that bridges continents and cultures. This transformation\nreflects not just athletic evolution, but a broader story of global connectivity and shared\npassion.\nThe New Face of Professional Basketball\nThe NBA's transformation tells a compelling story of basketball's globalization. Gone are the\ndays when the league was predominantly American. Today's NBA features transcendent\ninternational talents like Nikola Jokić, Joel Embiid, and Giannis Antetokounmpo – players\nwho have redefined excellence in the sport. Their success represents more than individual\nachievement; it symbolizes basketball's power to discover and nurture talent regardless of\norigin.\nNumbers That Speak Volumes\nThe statistics paint a vivid picture of basketball's global reach. FIBA's latest reports indicate\nthat over 450 million people actively play basketball worldwide. The NBA's global broadcast\nreaches 215 countries and territories in 47 languages. In the 2023-24 season, 125\ninternational players from 40 countries graced NBA rosters on opening night. Perhaps most\nstrikingly, China alone boasts 300 million basketball players – a number that exceeds the\nentire U.S. population.\nWomen Breaking Barriers\nThe women's game has written its own remarkable chapter in basketball's global story. The\nWNBA continues to expand its international influence, with stars like Jonquel Jones and Ezi\nMagbegor leading the charge. As WNBA Commissioner Cathy Engelbert notes, \"Women's\nbasketball is experiencing unprecedented growth.\" This growth manifests in increased\nviewership, engagement, and participation across demographics, creating new role models\nfor aspiring female athletes worldwide.\n2\n",
         "0.0026991367340087",
         "FromPeachBasketstoGlobalPhenomenon\nThestorybeginsinSpringfield, Massachusetts, 1891. Dr. JamesNaismith'ssimpleinventionof nailingpeachbasketstoagymnasiumwall hasevolvedintosomethingextraordinary.Today'sbasketball landscapeshowcasesasport that hasbrokenfreefromitsAmericanroots, becomingacultural forcethat bridgescontinentsandcultures. Thistransformationreflectsnot just athleticevolution, but abroaderstoryof global connectivityandsharedpassion.\nTheNewFaceofProfessionalBasketball\nTheNBA'stransformationtellsacompellingstoryof basketball'sglobalization. GonearethedayswhentheleaguewaspredominantlyAmerican. Today'sNBAfeaturestranscendentinternational talentslikeNikolaJokić, Joel Embiid, andGiannisAntetokounmpo–playerswhohaveredefinedexcellenceinthesport. Theirsuccessrepresentsmorethanindividualachievement; it symbolizesbasketball'spowertodiscoverandnurturetalent regardlessoforigin.\nNumbersThatSpeakVolumes\nThestatisticspaint avividpictureof basketball'sglobal reach. FIBA'slatest reportsindicatethat over450millionpeopleactivelyplaybasketball worldwide. TheNBA'sglobal broadcastreaches215countriesandterritoriesin47languages. Inthe2023-24season, 125international playersfrom40countriesgracedNBArostersonopeningnight. Perhapsmoststrikingly, Chinaaloneboasts300millionbasketball players–anumberthat exceedstheentireU.S. population.\nWomenBreakingBarriers\nThewomen'sgamehaswrittenitsownremarkablechapterinbasketball'sglobal story. TheWNBAcontinuestoexpanditsinternational influence, withstarslikeJonquel JonesandEziMagbegorleadingthecharge. AsWNBACommissionerCathyEngelbert notes, \"Women'sbasketball isexperiencingunprecedentedgrowth.\"Thisgrowthmanifestsinincreasedviewership, engagement, andparticipationacrossdemographics, creatingnewrolemodelsforaspiringfemaleathletesworldwide.\n2\n",
         "0.0268669128417968",
         "basketball_pdf.pdf ~ 1",
         "\nThe Global Game: Basketball's Unifying Power in the Modern Era\n\n\nFrom Peach Baskets to Global Phenomenon\nThe New Face of Professional Basketball\nNumbers That Speak Volumes\nWomen Breaking Barriers\nThe Economic Slam Dunk\nTechnology: The Game Changer\nYouth Development: Planting Seeds for Tomorrow\nUrban Renaissance Through Basketball\nThe Future Game\nConclusion: More Than Just a Game\n\n\n\n\n\n\n\n\n\n\n\n\n\n\n\n\n\n\n\n\n\n\n\n\n\n\n",
         "0.0",
         "0.0",
         "1526",
         "0.0560012175224158",
         "0.0970464135021097",
         "1712",
         "0.0",
         "0.0",
         "1526",
         "basketball_pdf.pdf "
        ],
        [
         "13",
         "14.0",
         "matplotlib_41-61_pdf.pdf ~ 14",
         "Matplotlib, Release 2.0.2\n0.0 0.5 1.0\nx-label\n1.0\n1.5\n2.0y-label\nTitle\n0.0 0.5 1.0\nx-label\n1.0\n1.5\n2.0y-label\nTitle\n0.0 0.5 1.0\nx-label\n1.0\n1.5\n2.0y-label\nTitle\n0.0 0.5 1.0\nx-label\n1.0\n1.5\n2.0y-label\nTitle\nAlthough not thoroughly tested, it seems to work for subplots with aspect != “auto” (e.g., axes with images).\narr = np.arange(100).reshape((10,10))\nplt.close('all')\nfig = plt.figure(figsize=(5,4))\nax = plt.subplot(111)\nim = ax.imshow(arr, interpolation=\"none\")\nplt.tight_layout()\n3.1. Introductory 47",
         "0.0048902034759521",
         "Matplotlib, Release 2.0.2\n0.0\n0.5\n1.0\nx-label\n1.0\n1.5\n2.0\ny-label\nTitle\n0.0\n0.5\n1.0\nx-label\n1.0\n1.5\n2.0\ny-label\nTitle\n0.0\n0.5\n1.0\nx-label\n1.0\n1.5\n2.0\ny-label\nTitle\n0.0\n0.5\n1.0\nx-label\n1.0\n1.5\n2.0\ny-label\nTitle\nAlthough not thoroughly tested, it seems to work for subplots with aspect != “auto” (e.g., axes with images).\narr = np.arange(100).reshape((10,10))\nplt.close('all')\nfig = plt.figure(figsize=(5,4))\nax = plt.subplot(111)\nim = ax.imshow(arr, interpolation=\"none\")\nplt.tight_layout()\n3.1. Introductory\n47\n",
         "0.0008759498596191",
         "Matplotlib, Release 2.0.2\n0.0 0.5 1.0\nx-label\n1.0\n1.5\n2.0y-label\nTitle\n0.0 0.5 1.0\nx-label\n1.0\n1.5\n2.0y-label\nTitle\n0.0 0.5 1.0\nx-label\n1.0\n1.5\n2.0y-label\nTitle\n0.0 0.5 1.0\nx-label\n1.0\n1.5\n2.0y-label\nTitle\nAlthough not thoroughly tested, it seems to work for subplots with aspect != “auto” (e.g., axes with images).\narr = np.arange(100).reshape((10,10))\nplt.close('all')\nfig = plt.figure(figsize=(5,4))\nax = plt.subplot(111)\nim = ax.imshow(arr, interpolation=\"none\")\nplt.tight_layout()\n3.1. Introductory 47",
         "0.0048441886901855",
         "matplotlib_41-61_pdf.pdf ~ 14",
         "  \nMatplotlib, Release 2.0.2\n  2.0 1.5 1.0\n2.0 1.5 1.0\n0.0 0.5 1.0 x-label\n2.0\n1.5\n1.0\nTitle\n0.0 0.5 x-label\n1.0\n0.0\n0.5 1.0 x-label\nTitle\nTitle\n       y-label\ny-label\ny-label\nIt works with subplots created with subplot2grid(). In general, subplots created from the gridspec (Cus- tomizing Location of Subplot Using GridSpec) will work.\n    plt.close('all') fig = plt.figure()\nax1 = plt.subplot2grid((3, 3), (0, 0))\nax2 = plt.subplot2grid((3, 3), (0, 1), colspan=2)\nax3 = plt.subplot2grid((3, 3), (1, 0), colspan=2, rowspan=2)\nax4 = plt.subplot2grid((3, 3), (1, 2), rowspan=2)\nexample_plot(ax1)\nexample_plot(ax2)\nexample_plot(ax3)\nexample_plot(ax4)\nplt.tight_layout()\n  46 Chapter3. Tutorials\n\n",
         "0.0936243589445548",
         "0.1764705882352941",
         "450",
         "0.0988701252332256",
         "0.2023809523809523",
         "459",
         "0.0936243589445548",
         "0.1764705882352941",
         "450",
         "matplotlib_41-61_pdf.pdf "
        ],
        [
         "10",
         "11.0",
         "matplotlib_41-61_pdf.pdf ~ 11",
         "Matplotlib, Release 2.0.2\n0.0 0.5 1.0\nx-label\n1.0\n1.5\n2.0y-label\nTitle\n0.0 0.5 1.0\nx-label\n1.0\n1.5\n2.0y-label\nTitle\n0.0 0.5 1.0\nx-label\n1.0\n1.5\n2.0y-label\nTitle\n0.0 0.5 1.0\nx-label\n1.0\n1.5\n2.0y-label\nTitle\ntight_layout() can take keyword arguments of pad, w_pad and h_pad. These control the extra padding\naround the ﬁgure border and between subplots. The pads are speciﬁed in fraction of fontsize.\nplt.tight_layout(pad=0.4, w_pad=0.5, h_pad=1.0)\n44 Chapter 3. Tutorials",
         "0.0059778690338134",
         "Matplotlib, Release 2.0.2\n0.0\n0.5\n1.0\nx-label\n1.0\n1.5\n2.0\ny-label\nTitle\n0.0\n0.5\n1.0\nx-label\n1.0\n1.5\n2.0\ny-label\nTitle\n0.0\n0.5\n1.0\nx-label\n1.0\n1.5\n2.0\ny-label\nTitle\n0.0\n0.5\n1.0\nx-label\n1.0\n1.5\n2.0\ny-label\nTitle\ntight_layout() can take keyword arguments of pad, w_pad and h_pad. These control the extra padding\naround the ﬁgure border and between subplots. The pads are speciﬁed in fraction of fontsize.\nplt.tight_layout(pad=0.4, w_pad=0.5, h_pad=1.0)\n44\nChapter 3. Tutorials\n",
         "0.0008070468902587",
         "Matplotlib, Release 2.0.2\n0.0 0.5 1.0\nx-label\n1.0\n1.5\n2.0y-label\nTitle\n0.0 0.5 1.0\nx-label\n1.0\n1.5\n2.0y-label\nTitle\n0.0 0.5 1.0\nx-label\n1.0\n1.5\n2.0y-label\nTitle\n0.0 0.5 1.0\nx-label\n1.0\n1.5\n2.0y-label\nTitle\ntight_layout() can take keyword arguments of pad, w_pad and h_pad. These control the extra padding\naround the ﬁgure border and between subplots. The pads are speciﬁed in fraction of fontsize.\nplt.tight_layout(pad=0.4, w_pad=0.5, h_pad=1.0)\n44 Chapter 3. Tutorials",
         "0.0049159526824951",
         "matplotlib_41-61_pdf.pdf ~ 11",
         "  \nMatplotlib, Release 2.0.2\n  2.0\n1.5\n1.0\n0.0\n2.0\n1.5\n1.0\n0.0\n0.5 1.0 Title\n2.0\n1.5\n1.0 2.0\n1.5\n1.0\n0.0\n0.5 1.0 Title\nTitle\nTitle\n0.5 1.0 x-label\n0.0\n0.5 1.0 x-label\n y-label\n x-label\n y-label\nx-label\n y-label y-label\ntight_layout() will also adjust spacing between subplots to minimize the overlaps. plt.tight_layout()\n    3.1. Introductory 43\n\n",
         "0.0976385270572296",
         "0.2068965517241379",
         "280",
         "0.0974071748814271",
         "0.2456140350877192",
         "277",
         "0.0976385270572296",
         "0.2068965517241379",
         "280",
         "matplotlib_41-61_pdf.pdf "
        ],
        [
         "8",
         "9.0",
         "matplotlib_41-61_pdf.pdf ~ 9",
         "Matplotlib, Release 2.0.2\n0.0 0.5 1.0\nx-label\n1.0\n1.5\n2.0\ny-label\nTitle\nWhen you have multiple subplots, often you see labels of diﬀerent axes overlapping each other.\nplt.close('all')\nfig, ((ax1, ax2), (ax3, ax4)) = plt.subplots(nrows=2, ncols=2)\nexample_plot(ax1)\nexample_plot(ax2)\nexample_plot(ax3)\nexample_plot(ax4)\n42 Chapter 3. Tutorials",
         "0.0037958621978759",
         "Matplotlib, Release 2.0.2\n0.0\n0.5\n1.0\nx-label\n1.0\n1.5\n2.0\ny-label\nTitle\nWhen you have multiple subplots, often you see labels of diﬀerent axes overlapping each other.\nplt.close('all')\nfig, ((ax1, ax2), (ax3, ax4)) = plt.subplots(nrows=2, ncols=2)\nexample_plot(ax1)\nexample_plot(ax2)\nexample_plot(ax3)\nexample_plot(ax4)\n42\nChapter 3. Tutorials\n",
         "0.0006117820739746",
         "Matplotlib, Release 2.0.2\n0.0 0.5 1.0\nx-label\n1.0\n1.5\n2.0\ny-label\nTitle\nWhen you have multiple subplots, often you see labels of diﬀerent axes overlapping each other.\nplt.close('all')\nfig, ((ax1, ax2), (ax3, ax4)) = plt.subplots(nrows=2, ncols=2)\nexample_plot(ax1)\nexample_plot(ax2)\nexample_plot(ax3)\nexample_plot(ax4)\n42 Chapter 3. Tutorials",
         "0.0031092166900634",
         "matplotlib_41-61_pdf.pdf ~ 9",
         "\nTo prevent this, the location of axes needs to be adjusted. For subplots, this can be done by adjusting the subplot params (Move the edge of an axes to make room for tick labels). Matplotlib v1.1 introduces a new command tight_layout() that does this automatically for you.\n3.1. Introductory 41\nMatplotlib, Release 2.0.2\n     ax.set_title('Title', fontsize=fontsize)\nplt.close('all')\nfig, ax = plt.subplots() example_plot(ax, fontsize=24)\n  Title\n     2.0\n1.5\n1.0\n0.0\n0.5 1.0 x-label\ny-label\n  plt.tight_layout()\n\n",
         "0.0528479891274908",
         "0.1931818181818181",
         "395",
         "0.0528479891274908",
         "0.1931818181818181",
         "395",
         "0.0528479891274908",
         "0.1931818181818181",
         "395",
         "matplotlib_41-61_pdf.pdf "
        ]
       ],
       "shape": {
        "columns": 20,
        "rows": 5
       }
      },
      "text/html": [
       "<div>\n",
       "<style scoped>\n",
       "    .dataframe tbody tr th:only-of-type {\n",
       "        vertical-align: middle;\n",
       "    }\n",
       "\n",
       "    .dataframe tbody tr th {\n",
       "        vertical-align: top;\n",
       "    }\n",
       "\n",
       "    .dataframe thead th {\n",
       "        text-align: right;\n",
       "    }\n",
       "</style>\n",
       "<table border=\"1\" class=\"dataframe\">\n",
       "  <thead>\n",
       "    <tr style=\"text-align: right;\">\n",
       "      <th></th>\n",
       "      <th>pageNumber_pypdf</th>\n",
       "      <th>pdfId_pypdf</th>\n",
       "      <th>pageContent_pypdf</th>\n",
       "      <th>extractionTimeSeconds_pypdf</th>\n",
       "      <th>pageContent_pymupdf</th>\n",
       "      <th>extractionTimeSeconds_pymupdf</th>\n",
       "      <th>pageContent_pdfminer</th>\n",
       "      <th>extractionTimeSeconds_pdfminer</th>\n",
       "      <th>pdfId</th>\n",
       "      <th>text</th>\n",
       "      <th>pypdf_bleu</th>\n",
       "      <th>pypdf_jaccard</th>\n",
       "      <th>pypdf_levenshtein</th>\n",
       "      <th>pymupdf_bleu</th>\n",
       "      <th>pymupdf_jaccard</th>\n",
       "      <th>pymupdf_levenshtein</th>\n",
       "      <th>pdfminer_bleu</th>\n",
       "      <th>pdfminer_jaccard</th>\n",
       "      <th>pdfminer_levenshtein</th>\n",
       "      <th>pdfName</th>\n",
       "    </tr>\n",
       "  </thead>\n",
       "  <tbody>\n",
       "    <tr>\n",
       "      <th>58</th>\n",
       "      <td>2.0</td>\n",
       "      <td>genai_pdf.pdf ~ 2</td>\n",
       "      <td>Author: Prateek Mannem   \\n \\n  3 \\n \\n• Recog...</td>\n",
       "      <td>0.009166</td>\n",
       "      <td>Author: Prateek Mannem \\n \\n \\n \\n3\\n \\n• Reco...</td>\n",
       "      <td>0.002321</td>\n",
       "      <td>Author: Prateek Mannem   \\n \\n  3 \\n \\n• Recog...</td>\n",
       "      <td>0.008765</td>\n",
       "      <td>genai_pdf.pdf ~ 2</td>\n",
       "      <td>\\nWhat Exactly is Generative AI? 🤖✨ \\n\\nThink ...</td>\n",
       "      <td>0.005680</td>\n",
       "      <td>0.098712</td>\n",
       "      <td>888</td>\n",
       "      <td>0.005680</td>\n",
       "      <td>0.098712</td>\n",
       "      <td>887</td>\n",
       "      <td>0.005680</td>\n",
       "      <td>0.098712</td>\n",
       "      <td>888</td>\n",
       "      <td>genai_pdf.pdf</td>\n",
       "    </tr>\n",
       "    <tr>\n",
       "      <th>28</th>\n",
       "      <td>1.0</td>\n",
       "      <td>basketball_pdf.pdf ~ 1</td>\n",
       "      <td>FromPeachBasketstoGlobalPhenomenon\\nThestorybe...</td>\n",
       "      <td>0.025892</td>\n",
       "      <td>From Peach Baskets to Global Phenomenon\\nThe s...</td>\n",
       "      <td>0.002699</td>\n",
       "      <td>FromPeachBasketstoGlobalPhenomenon\\nThestorybe...</td>\n",
       "      <td>0.026867</td>\n",
       "      <td>basketball_pdf.pdf ~ 1</td>\n",
       "      <td>\\nThe Global Game: Basketball's Unifying Power...</td>\n",
       "      <td>0.000000</td>\n",
       "      <td>0.000000</td>\n",
       "      <td>1526</td>\n",
       "      <td>0.056001</td>\n",
       "      <td>0.097046</td>\n",
       "      <td>1712</td>\n",
       "      <td>0.000000</td>\n",
       "      <td>0.000000</td>\n",
       "      <td>1526</td>\n",
       "      <td>basketball_pdf.pdf</td>\n",
       "    </tr>\n",
       "    <tr>\n",
       "      <th>13</th>\n",
       "      <td>14.0</td>\n",
       "      <td>matplotlib_41-61_pdf.pdf ~ 14</td>\n",
       "      <td>Matplotlib, Release 2.0.2\\n0.0 0.5 1.0\\nx-labe...</td>\n",
       "      <td>0.004890</td>\n",
       "      <td>Matplotlib, Release 2.0.2\\n0.0\\n0.5\\n1.0\\nx-la...</td>\n",
       "      <td>0.000876</td>\n",
       "      <td>Matplotlib, Release 2.0.2\\n0.0 0.5 1.0\\nx-labe...</td>\n",
       "      <td>0.004844</td>\n",
       "      <td>matplotlib_41-61_pdf.pdf ~ 14</td>\n",
       "      <td>\\nMatplotlib, Release 2.0.2\\n  2.0 1.5 1.0\\n...</td>\n",
       "      <td>0.093624</td>\n",
       "      <td>0.176471</td>\n",
       "      <td>450</td>\n",
       "      <td>0.098870</td>\n",
       "      <td>0.202381</td>\n",
       "      <td>459</td>\n",
       "      <td>0.093624</td>\n",
       "      <td>0.176471</td>\n",
       "      <td>450</td>\n",
       "      <td>matplotlib_41-61_pdf.pdf</td>\n",
       "    </tr>\n",
       "    <tr>\n",
       "      <th>10</th>\n",
       "      <td>11.0</td>\n",
       "      <td>matplotlib_41-61_pdf.pdf ~ 11</td>\n",
       "      <td>Matplotlib, Release 2.0.2\\n0.0 0.5 1.0\\nx-labe...</td>\n",
       "      <td>0.005978</td>\n",
       "      <td>Matplotlib, Release 2.0.2\\n0.0\\n0.5\\n1.0\\nx-la...</td>\n",
       "      <td>0.000807</td>\n",
       "      <td>Matplotlib, Release 2.0.2\\n0.0 0.5 1.0\\nx-labe...</td>\n",
       "      <td>0.004916</td>\n",
       "      <td>matplotlib_41-61_pdf.pdf ~ 11</td>\n",
       "      <td>\\nMatplotlib, Release 2.0.2\\n  2.0\\n1.5\\n1.0...</td>\n",
       "      <td>0.097639</td>\n",
       "      <td>0.206897</td>\n",
       "      <td>280</td>\n",
       "      <td>0.097407</td>\n",
       "      <td>0.245614</td>\n",
       "      <td>277</td>\n",
       "      <td>0.097639</td>\n",
       "      <td>0.206897</td>\n",
       "      <td>280</td>\n",
       "      <td>matplotlib_41-61_pdf.pdf</td>\n",
       "    </tr>\n",
       "    <tr>\n",
       "      <th>8</th>\n",
       "      <td>9.0</td>\n",
       "      <td>matplotlib_41-61_pdf.pdf ~ 9</td>\n",
       "      <td>Matplotlib, Release 2.0.2\\n0.0 0.5 1.0\\nx-labe...</td>\n",
       "      <td>0.003796</td>\n",
       "      <td>Matplotlib, Release 2.0.2\\n0.0\\n0.5\\n1.0\\nx-la...</td>\n",
       "      <td>0.000612</td>\n",
       "      <td>Matplotlib, Release 2.0.2\\n0.0 0.5 1.0\\nx-labe...</td>\n",
       "      <td>0.003109</td>\n",
       "      <td>matplotlib_41-61_pdf.pdf ~ 9</td>\n",
       "      <td>\\nTo prevent this, the location of axes needs ...</td>\n",
       "      <td>0.052848</td>\n",
       "      <td>0.193182</td>\n",
       "      <td>395</td>\n",
       "      <td>0.052848</td>\n",
       "      <td>0.193182</td>\n",
       "      <td>395</td>\n",
       "      <td>0.052848</td>\n",
       "      <td>0.193182</td>\n",
       "      <td>395</td>\n",
       "      <td>matplotlib_41-61_pdf.pdf</td>\n",
       "    </tr>\n",
       "  </tbody>\n",
       "</table>\n",
       "</div>"
      ],
      "text/plain": [
       "    pageNumber_pypdf                    pdfId_pypdf  \\\n",
       "58               2.0              genai_pdf.pdf ~ 2   \n",
       "28               1.0         basketball_pdf.pdf ~ 1   \n",
       "13              14.0  matplotlib_41-61_pdf.pdf ~ 14   \n",
       "10              11.0  matplotlib_41-61_pdf.pdf ~ 11   \n",
       "8                9.0   matplotlib_41-61_pdf.pdf ~ 9   \n",
       "\n",
       "                                    pageContent_pypdf  \\\n",
       "58  Author: Prateek Mannem   \\n \\n  3 \\n \\n• Recog...   \n",
       "28  FromPeachBasketstoGlobalPhenomenon\\nThestorybe...   \n",
       "13  Matplotlib, Release 2.0.2\\n0.0 0.5 1.0\\nx-labe...   \n",
       "10  Matplotlib, Release 2.0.2\\n0.0 0.5 1.0\\nx-labe...   \n",
       "8   Matplotlib, Release 2.0.2\\n0.0 0.5 1.0\\nx-labe...   \n",
       "\n",
       "    extractionTimeSeconds_pypdf  \\\n",
       "58                     0.009166   \n",
       "28                     0.025892   \n",
       "13                     0.004890   \n",
       "10                     0.005978   \n",
       "8                      0.003796   \n",
       "\n",
       "                                  pageContent_pymupdf  \\\n",
       "58  Author: Prateek Mannem \\n \\n \\n \\n3\\n \\n• Reco...   \n",
       "28  From Peach Baskets to Global Phenomenon\\nThe s...   \n",
       "13  Matplotlib, Release 2.0.2\\n0.0\\n0.5\\n1.0\\nx-la...   \n",
       "10  Matplotlib, Release 2.0.2\\n0.0\\n0.5\\n1.0\\nx-la...   \n",
       "8   Matplotlib, Release 2.0.2\\n0.0\\n0.5\\n1.0\\nx-la...   \n",
       "\n",
       "    extractionTimeSeconds_pymupdf  \\\n",
       "58                       0.002321   \n",
       "28                       0.002699   \n",
       "13                       0.000876   \n",
       "10                       0.000807   \n",
       "8                        0.000612   \n",
       "\n",
       "                                 pageContent_pdfminer  \\\n",
       "58  Author: Prateek Mannem   \\n \\n  3 \\n \\n• Recog...   \n",
       "28  FromPeachBasketstoGlobalPhenomenon\\nThestorybe...   \n",
       "13  Matplotlib, Release 2.0.2\\n0.0 0.5 1.0\\nx-labe...   \n",
       "10  Matplotlib, Release 2.0.2\\n0.0 0.5 1.0\\nx-labe...   \n",
       "8   Matplotlib, Release 2.0.2\\n0.0 0.5 1.0\\nx-labe...   \n",
       "\n",
       "    extractionTimeSeconds_pdfminer                          pdfId  \\\n",
       "58                        0.008765              genai_pdf.pdf ~ 2   \n",
       "28                        0.026867         basketball_pdf.pdf ~ 1   \n",
       "13                        0.004844  matplotlib_41-61_pdf.pdf ~ 14   \n",
       "10                        0.004916  matplotlib_41-61_pdf.pdf ~ 11   \n",
       "8                         0.003109   matplotlib_41-61_pdf.pdf ~ 9   \n",
       "\n",
       "                                                 text  pypdf_bleu  \\\n",
       "58  \\nWhat Exactly is Generative AI? 🤖✨ \\n\\nThink ...    0.005680   \n",
       "28  \\nThe Global Game: Basketball's Unifying Power...    0.000000   \n",
       "13    \\nMatplotlib, Release 2.0.2\\n  2.0 1.5 1.0\\n...    0.093624   \n",
       "10    \\nMatplotlib, Release 2.0.2\\n  2.0\\n1.5\\n1.0...    0.097639   \n",
       "8   \\nTo prevent this, the location of axes needs ...    0.052848   \n",
       "\n",
       "    pypdf_jaccard  pypdf_levenshtein  pymupdf_bleu  pymupdf_jaccard  \\\n",
       "58       0.098712                888      0.005680         0.098712   \n",
       "28       0.000000               1526      0.056001         0.097046   \n",
       "13       0.176471                450      0.098870         0.202381   \n",
       "10       0.206897                280      0.097407         0.245614   \n",
       "8        0.193182                395      0.052848         0.193182   \n",
       "\n",
       "    pymupdf_levenshtein  pdfminer_bleu  pdfminer_jaccard  \\\n",
       "58                  887       0.005680          0.098712   \n",
       "28                 1712       0.000000          0.000000   \n",
       "13                  459       0.093624          0.176471   \n",
       "10                  277       0.097639          0.206897   \n",
       "8                   395       0.052848          0.193182   \n",
       "\n",
       "    pdfminer_levenshtein                    pdfName  \n",
       "58                   888             genai_pdf.pdf   \n",
       "28                  1526        basketball_pdf.pdf   \n",
       "13                   450  matplotlib_41-61_pdf.pdf   \n",
       "10                   280  matplotlib_41-61_pdf.pdf   \n",
       "8                    395  matplotlib_41-61_pdf.pdf   "
      ]
     },
     "execution_count": 29,
     "metadata": {},
     "output_type": "execute_result"
    }
   ],
   "source": [
    "df.sample(5)"
   ]
  },
  {
   "cell_type": "code",
   "execution_count": 30,
   "id": "3f090c34",
   "metadata": {},
   "outputs": [
    {
     "data": {
      "text/plain": [
       "['pypdf', 'pymupdf', 'pdfminer']"
      ]
     },
     "execution_count": 30,
     "metadata": {},
     "output_type": "execute_result"
    }
   ],
   "source": [
    "libraries"
   ]
  },
  {
   "cell_type": "code",
   "execution_count": 31,
   "id": "1713ceef",
   "metadata": {},
   "outputs": [],
   "source": [
    "bleu_score = df.groupby('pdfName').agg(\n",
    "    {\n",
    "        'pypdf_bleu': 'sum',\n",
    "        'pymupdf_bleu': 'sum',\n",
    "        'pdfminer_bleu': 'sum'\n",
    "    }\n",
    ")"
   ]
  },
  {
   "cell_type": "code",
   "execution_count": 32,
   "id": "026dc71c",
   "metadata": {},
   "outputs": [
    {
     "data": {
      "application/vnd.microsoft.datawrangler.viewer.v0+json": {
       "columns": [
        {
         "name": "index",
         "rawType": "object",
         "type": "string"
        },
        {
         "name": "pypdf_bleu",
         "rawType": "float64",
         "type": "float"
        },
        {
         "name": "pypdf_jaccard",
         "rawType": "float64",
         "type": "float"
        },
        {
         "name": "pypdf_levenshtein",
         "rawType": "float64",
         "type": "float"
        }
       ],
       "ref": "f5ba009c-d0fe-4d12-a6f8-444333d7f4fc",
       "rows": [
        [
         "count",
         "60.0",
         "60.0",
         "60.0"
        ],
        [
         "mean",
         "0.037324263419068616",
         "0.09818292461198783",
         "907.3"
        ],
        [
         "std",
         "0.0960789222130942",
         "0.10381189908554657",
         "589.6038974872904"
        ],
        [
         "min",
         "0.0",
         "0.0",
         "23.0"
        ],
        [
         "25%",
         "4.94723593236262e-05",
         "0.013304275633042751",
         "472.0"
        ],
        [
         "50%",
         "0.0118232011802633",
         "0.09406597573306366",
         "806.5"
        ],
        [
         "75%",
         "0.040722825641887096",
         "0.13787467173775234",
         "1292.75"
        ],
        [
         "max",
         "0.7210870470780155",
         "0.6767676767676768",
         "2716.0"
        ]
       ],
       "shape": {
        "columns": 3,
        "rows": 8
       }
      },
      "text/html": [
       "<div>\n",
       "<style scoped>\n",
       "    .dataframe tbody tr th:only-of-type {\n",
       "        vertical-align: middle;\n",
       "    }\n",
       "\n",
       "    .dataframe tbody tr th {\n",
       "        vertical-align: top;\n",
       "    }\n",
       "\n",
       "    .dataframe thead th {\n",
       "        text-align: right;\n",
       "    }\n",
       "</style>\n",
       "<table border=\"1\" class=\"dataframe\">\n",
       "  <thead>\n",
       "    <tr style=\"text-align: right;\">\n",
       "      <th></th>\n",
       "      <th>pypdf_bleu</th>\n",
       "      <th>pypdf_jaccard</th>\n",
       "      <th>pypdf_levenshtein</th>\n",
       "    </tr>\n",
       "  </thead>\n",
       "  <tbody>\n",
       "    <tr>\n",
       "      <th>count</th>\n",
       "      <td>60.000000</td>\n",
       "      <td>60.000000</td>\n",
       "      <td>60.000000</td>\n",
       "    </tr>\n",
       "    <tr>\n",
       "      <th>mean</th>\n",
       "      <td>0.037324</td>\n",
       "      <td>0.098183</td>\n",
       "      <td>907.300000</td>\n",
       "    </tr>\n",
       "    <tr>\n",
       "      <th>std</th>\n",
       "      <td>0.096079</td>\n",
       "      <td>0.103812</td>\n",
       "      <td>589.603897</td>\n",
       "    </tr>\n",
       "    <tr>\n",
       "      <th>min</th>\n",
       "      <td>0.000000</td>\n",
       "      <td>0.000000</td>\n",
       "      <td>23.000000</td>\n",
       "    </tr>\n",
       "    <tr>\n",
       "      <th>25%</th>\n",
       "      <td>0.000049</td>\n",
       "      <td>0.013304</td>\n",
       "      <td>472.000000</td>\n",
       "    </tr>\n",
       "    <tr>\n",
       "      <th>50%</th>\n",
       "      <td>0.011823</td>\n",
       "      <td>0.094066</td>\n",
       "      <td>806.500000</td>\n",
       "    </tr>\n",
       "    <tr>\n",
       "      <th>75%</th>\n",
       "      <td>0.040723</td>\n",
       "      <td>0.137875</td>\n",
       "      <td>1292.750000</td>\n",
       "    </tr>\n",
       "    <tr>\n",
       "      <th>max</th>\n",
       "      <td>0.721087</td>\n",
       "      <td>0.676768</td>\n",
       "      <td>2716.000000</td>\n",
       "    </tr>\n",
       "  </tbody>\n",
       "</table>\n",
       "</div>"
      ],
      "text/plain": [
       "       pypdf_bleu  pypdf_jaccard  pypdf_levenshtein\n",
       "count   60.000000      60.000000          60.000000\n",
       "mean     0.037324       0.098183         907.300000\n",
       "std      0.096079       0.103812         589.603897\n",
       "min      0.000000       0.000000          23.000000\n",
       "25%      0.000049       0.013304         472.000000\n",
       "50%      0.011823       0.094066         806.500000\n",
       "75%      0.040723       0.137875        1292.750000\n",
       "max      0.721087       0.676768        2716.000000"
      ]
     },
     "execution_count": 32,
     "metadata": {},
     "output_type": "execute_result"
    }
   ],
   "source": [
    "df[['pypdf_bleu', 'pypdf_jaccard', 'pypdf_levenshtein']].describe()"
   ]
  },
  {
   "cell_type": "code",
   "execution_count": 33,
   "id": "3368dd2b",
   "metadata": {},
   "outputs": [
    {
     "data": {
      "application/vnd.microsoft.datawrangler.viewer.v0+json": {
       "columns": [
        {
         "name": "pdfName",
         "rawType": "object",
         "type": "string"
        },
        {
         "name": "pypdf_bleu",
         "rawType": "float64",
         "type": "float"
        },
        {
         "name": "pymupdf_bleu",
         "rawType": "float64",
         "type": "float"
        },
        {
         "name": "pdfminer_bleu",
         "rawType": "float64",
         "type": "float"
        }
       ],
       "ref": "71ba0a62-83be-417e-b25d-3dcd883f0039",
       "rows": [
        [
         "basketball_pdf.pdf ",
         "6.160347275255452e-05",
         "0.4015291605665335",
         "6.160347275255452e-05"
        ],
        [
         "chess_pdf.pdf ",
         "0.0778024105895125",
         "0.0778024105895125",
         "0.0778024105895125"
        ],
        [
         "genai_pdf.pdf ",
         "0.0618727333977947",
         "0.0618727333977947",
         "0.0618727333977947"
        ],
        [
         "latex_pdf.pdf ",
         "0.10351697576420185",
         "0.058838112154973046",
         "0.10351697576420185"
        ],
        [
         "matplotlib_1-21_pdf.pdf ",
         "0.853762725974642",
         "0.8975015546593244",
         "0.853762725974642"
        ],
        [
         "matplotlib_41-61_pdf.pdf ",
         "1.0084598649978398",
         "1.0220955717718805",
         "1.0084598649978398"
        ],
        [
         "notion_pdf.pdf ",
         "0.0008758456646662",
         "0.0007808542997826",
         "0.0008758456646662"
        ],
        [
         "sleep_pdf.pdf ",
         "0.1331036452827079",
         "0.1331036452827079",
         "0.1331036452827079"
        ]
       ],
       "shape": {
        "columns": 3,
        "rows": 8
       }
      },
      "text/html": [
       "<div>\n",
       "<style scoped>\n",
       "    .dataframe tbody tr th:only-of-type {\n",
       "        vertical-align: middle;\n",
       "    }\n",
       "\n",
       "    .dataframe tbody tr th {\n",
       "        vertical-align: top;\n",
       "    }\n",
       "\n",
       "    .dataframe thead th {\n",
       "        text-align: right;\n",
       "    }\n",
       "</style>\n",
       "<table border=\"1\" class=\"dataframe\">\n",
       "  <thead>\n",
       "    <tr style=\"text-align: right;\">\n",
       "      <th></th>\n",
       "      <th>pypdf_bleu</th>\n",
       "      <th>pymupdf_bleu</th>\n",
       "      <th>pdfminer_bleu</th>\n",
       "    </tr>\n",
       "    <tr>\n",
       "      <th>pdfName</th>\n",
       "      <th></th>\n",
       "      <th></th>\n",
       "      <th></th>\n",
       "    </tr>\n",
       "  </thead>\n",
       "  <tbody>\n",
       "    <tr>\n",
       "      <th>basketball_pdf.pdf</th>\n",
       "      <td>0.000062</td>\n",
       "      <td>0.401529</td>\n",
       "      <td>0.000062</td>\n",
       "    </tr>\n",
       "    <tr>\n",
       "      <th>chess_pdf.pdf</th>\n",
       "      <td>0.077802</td>\n",
       "      <td>0.077802</td>\n",
       "      <td>0.077802</td>\n",
       "    </tr>\n",
       "    <tr>\n",
       "      <th>genai_pdf.pdf</th>\n",
       "      <td>0.061873</td>\n",
       "      <td>0.061873</td>\n",
       "      <td>0.061873</td>\n",
       "    </tr>\n",
       "    <tr>\n",
       "      <th>latex_pdf.pdf</th>\n",
       "      <td>0.103517</td>\n",
       "      <td>0.058838</td>\n",
       "      <td>0.103517</td>\n",
       "    </tr>\n",
       "    <tr>\n",
       "      <th>matplotlib_1-21_pdf.pdf</th>\n",
       "      <td>0.853763</td>\n",
       "      <td>0.897502</td>\n",
       "      <td>0.853763</td>\n",
       "    </tr>\n",
       "    <tr>\n",
       "      <th>matplotlib_41-61_pdf.pdf</th>\n",
       "      <td>1.008460</td>\n",
       "      <td>1.022096</td>\n",
       "      <td>1.008460</td>\n",
       "    </tr>\n",
       "    <tr>\n",
       "      <th>notion_pdf.pdf</th>\n",
       "      <td>0.000876</td>\n",
       "      <td>0.000781</td>\n",
       "      <td>0.000876</td>\n",
       "    </tr>\n",
       "    <tr>\n",
       "      <th>sleep_pdf.pdf</th>\n",
       "      <td>0.133104</td>\n",
       "      <td>0.133104</td>\n",
       "      <td>0.133104</td>\n",
       "    </tr>\n",
       "  </tbody>\n",
       "</table>\n",
       "</div>"
      ],
      "text/plain": [
       "                           pypdf_bleu  pymupdf_bleu  pdfminer_bleu\n",
       "pdfName                                                           \n",
       "basketball_pdf.pdf           0.000062      0.401529       0.000062\n",
       "chess_pdf.pdf                0.077802      0.077802       0.077802\n",
       "genai_pdf.pdf                0.061873      0.061873       0.061873\n",
       "latex_pdf.pdf                0.103517      0.058838       0.103517\n",
       "matplotlib_1-21_pdf.pdf      0.853763      0.897502       0.853763\n",
       "matplotlib_41-61_pdf.pdf     1.008460      1.022096       1.008460\n",
       "notion_pdf.pdf               0.000876      0.000781       0.000876\n",
       "sleep_pdf.pdf                0.133104      0.133104       0.133104"
      ]
     },
     "execution_count": 33,
     "metadata": {},
     "output_type": "execute_result"
    }
   ],
   "source": [
    "bleu_score"
   ]
  },
  {
   "cell_type": "code",
   "execution_count": 34,
   "id": "15f113e8",
   "metadata": {},
   "outputs": [
    {
     "name": "stdout",
     "output_type": "stream",
     "text": [
      "\u001b[31mSignature:\u001b[39m\n",
      "plot_extraction_times(\n",
      "    grouped_df: pandas.core.frame.DataFrame,\n",
      "    libraries: list[str] = [\u001b[33m'pypdf'\u001b[39m, \u001b[33m'pymupdf'\u001b[39m, \u001b[33m'pdfminer'\u001b[39m],\n",
      "    time_col_prefix: str = \u001b[33m'extractionTimeSeconds_'\u001b[39m,\n",
      "    figsize: tuple[int, int] = (\u001b[32m14\u001b[39m, \u001b[32m8\u001b[39m),\n",
      "    colors: dict[str, str] = \u001b[38;5;28;01mNone\u001b[39;00m,\n",
      "    markers: dict[str, str] = \u001b[38;5;28;01mNone\u001b[39;00m,\n",
      ") -> \u001b[38;5;28;01mNone\u001b[39;00m\n",
      "\u001b[31mDocstring:\u001b[39m <no docstring>\n",
      "\u001b[31mFile:\u001b[39m      /var/folders/2x/q_38__5j1mgfk3pqv0vrxb5m0000gp/T/ipykernel_9846/1593483627.py\n",
      "\u001b[31mType:\u001b[39m      function"
     ]
    }
   ],
   "source": [
    "plot_extraction_times?"
   ]
  },
  {
   "cell_type": "code",
   "execution_count": 44,
   "id": "073af782",
   "metadata": {},
   "outputs": [],
   "source": [
    "def plot_bleu(\n",
    "    grouped_df: pd.DataFrame,\n",
    "    libraries: list[str] = ['pypdf', 'pymupdf', 'pdfminer'],\n",
    "    time_col_suffix: str = None,\n",
    "    figsize: tuple[int, int] = (14, 8),\n",
    "    type: str = 'line',\n",
    "    colors: dict[str, str] = None,\n",
    "    markers: dict[str, str] = None\n",
    ") -> None:\n",
    "    fig, ax = plt.subplots(figsize=figsize)\n",
    "\n",
    "    default_colors = ['#4C72B0', '#F28E2B', '#55A868', '#8C564B', '#D62728']\n",
    "    default_markers = ['o', 's', '^', 'D', 'v', 'p']\n",
    "\n",
    "    if colors is None:\n",
    "        colors = {\n",
    "            i: default_colors[i % len(default_colors)]\n",
    "            for i, lib in enumerate(libraries)\n",
    "        }\n",
    "\n",
    "    if markers is None:\n",
    "        markers = {\n",
    "            i: default_markers[i % len(default_markers)]\n",
    "            for i, lib in enumerate(libraries)\n",
    "        }\n",
    "    if type == 'line':\n",
    "        for i, library in enumerate(libraries):\n",
    "            column = f'{library}_{time_col_suffix}'\n",
    "            plot_data(\n",
    "                ax, \n",
    "                grouped_df.index,\n",
    "                grouped_df[column],\n",
    "                plot_type='line',\n",
    "                label=library,\n",
    "                color=colors[i],\n",
    "                marker=markers[i]\n",
    "            )\n",
    "\n",
    "        ax.set_title('Line Graph of Bleu Scores', fontsize=16)\n",
    "        ax.set_ylabel('Score (bleu)', fontsize=14)\n",
    "        ax.tick_params(axis='x', rotation=60)\n",
    "    if type:\n",
    "        plt.tight_layout()\n",
    "    plt.show()\n",
    "\n",
    "    return fig, ax"
   ]
  },
  {
   "cell_type": "code",
   "execution_count": 45,
   "id": "3766269b",
   "metadata": {},
   "outputs": [
    {
     "data": {
      "image/png": "[encoded data removed]",
      "text/plain": [
       "<Figure size 1400x800 with 1 Axes>"
      ]
     },
     "metadata": {},
     "output_type": "display_data"
    },
    {
     "data": {
      "text/plain": [
       "(<Figure size 1400x800 with 1 Axes>,\n",
       " <Axes: title={'center': 'Line Graph of Bleu Scores'}, ylabel='Score (bleu)'>)"
      ]
     },
     "execution_count": 45,
     "metadata": {},
     "output_type": "execute_result"
    }
   ],
   "source": [
    "plot_bleu(bleu_score, time_col_suffix='bleu')"
   ]
  },
  {
   "cell_type": "code",
   "execution_count": 37,
   "id": "81e32eb1",
   "metadata": {},
   "outputs": [],
   "source": [
    "def plot_empirical_cdf(df, metric_columns, title=\"Empirical CDF of Metrics\", label_column=None):\n",
    "    \"\"\"\n",
    "    Plots empirical CDFs for multiple metric columns.\n",
    "\n",
    "    Parameters:\n",
    "    - df: pd.DataFrame, the input data (one row per PDF, one column per metric).\n",
    "    - metric_columns: list of str, the column names for the metrics to plot.\n",
    "    - title: str, title of the plot.\n",
    "    - label_column: optional str, if you want to label or sort by a specific column (ignored for plotting).\n",
    "    \"\"\"\n",
    "    plt.figure(figsize=(10, 6))\n",
    "\n",
    "    for col in metric_columns:\n",
    "        sorted_vals = np.sort(df[col].dropna().values)\n",
    "        cdf_vals = np.arange(1, len(sorted_vals)+1) / len(sorted_vals)\n",
    "        plt.plot(sorted_vals, cdf_vals, marker='o', linestyle='-', label=col)\n",
    "\n",
    "    plt.xlabel(\"Metric Value\")\n",
    "    plt.ylabel(\"Cumulative Probability (CDF)\")\n",
    "    plt.title(title)\n",
    "    plt.grid(True)\n",
    "    plt.yticks(np.arange(0, 1.05, 0.05))  # Y-ticks every 0.1\n",
    "    plt.legend(title=\"Metric\")\n",
    "    plt.tight_layout()\n",
    "    plt.show()\n"
   ]
  },
  {
   "cell_type": "code",
   "execution_count": 38,
   "id": "4b101899",
   "metadata": {},
   "outputs": [],
   "source": [
    "jaccard_similarity = df.groupby('pdfName').agg(\n",
    "    {\n",
    "        'pypdf_jaccard': 'sum',\n",
    "        'pymupdf_jaccard': 'sum',\n",
    "        'pdfminer_jaccard': 'sum',\n",
    "    }\n",
    ")"
   ]
  },
  {
   "cell_type": "code",
   "execution_count": 39,
   "id": "b8b246af",
   "metadata": {},
   "outputs": [],
   "source": [
    "levenschtein_distance = df.groupby('pdfName').agg(\n",
    "    {\n",
    "        'pypdf_levenshtein': 'sum',\n",
    "        'pymupdf_levenshtein': 'sum',\n",
    "        'pdfminer_levenshtein': 'sum'\n",
    "    }\n",
    ")"
   ]
  },
  {
   "cell_type": "code",
   "execution_count": 40,
   "id": "7f33867f",
   "metadata": {},
   "outputs": [
    {
     "data": {
      "image/png": "[encoded data removed]",
      "text/plain": [
       "<Figure size 1000x600 with 1 Axes>"
      ]
     },
     "metadata": {},
     "output_type": "display_data"
    }
   ],
   "source": [
    "plot_empirical_cdf(levenschtein_distance, metric_columns=list(levenschtein_distance.columns))"
   ]
  },
  {
   "cell_type": "code",
   "execution_count": 41,
   "id": "a9d48bc0",
   "metadata": {},
   "outputs": [],
   "source": [
    "def plot_violin_from_metrics(df, metric_columns, title=\"Violin Plot of Jaccard Scores\"):\n",
    "    \"\"\"\n",
    "    Plots a violin plot comparing the distributions of several metrics (e.g., Jaccard scores)\n",
    "    across different PDF parsers.\n",
    "\n",
    "    Parameters:\n",
    "        df (pd.DataFrame): DataFrame containing one row per PDF and columns for each parser's metric.\n",
    "        metric_columns (list): List of column names representing different parsers (metrics).\n",
    "        title (str): Title of the plot.\n",
    "    \"\"\"\n",
    "    # Melt the dataframe into long format for seaborn\n",
    "    melted_df = df[metric_columns].melt(var_name=\"Parser\", value_name=\"Jaccard Score\")\n",
    "\n",
    "    # Create the violin plot\n",
    "    plt.figure(figsize=(10, 6))\n",
    "    sns.violinplot(data=melted_df, x=\"Parser\", y=\"Jaccard Score\", inner=\"box\", palette=\"Set2\")\n",
    "\n",
    "    # Add titles and labels\n",
    "    plt.title(title)\n",
    "    plt.ylabel(\"Jaccard Score\")\n",
    "    plt.xlabel(\"PDF Parser\")\n",
    "    plt.ylim(0, 1)  # assuming scores are between 0 and 1\n",
    "    plt.grid(True, axis='y', linestyle='--', alpha=0.7)\n",
    "    plt.tight_layout()\n",
    "    plt.show()"
   ]
  },
  {
   "cell_type": "code",
   "execution_count": 42,
   "id": "7f1b255c",
   "metadata": {},
   "outputs": [],
   "source": [
    "def plot_heatmap(df, title=\"Heatmap of Scores\", fmt=\".2f\", cmap=\"YlGnBu\"):\n",
    "    \"\"\"\n",
    "    Plots a cleaner and more readable heatmap from the provided DataFrame.\n",
    "\n",
    "    Parameters:\n",
    "    - df: pd.DataFrame, data to plot\n",
    "    - title: str, title of the heatmap\n",
    "    - fmt: str, string formatting code (e.g., \".2f\", \"d\", \"e\")\n",
    "    - cmap: str or matplotlib colormap, color scheme\n",
    "    \"\"\"\n",
    "    plt.figure(figsize=(10, 6))\n",
    "    ax = sns.heatmap(\n",
    "        df,\n",
    "        annot=True,\n",
    "        fmt=fmt,\n",
    "        cmap=cmap,\n",
    "        linewidths=0.5,\n",
    "        linecolor='gray',\n",
    "        cbar_kws={\"shrink\": 0.7},\n",
    "        annot_kws={\"size\": 9},\n",
    "        square=False\n",
    "    )\n",
    "    ax.set_title(title, fontsize=14, pad=12)\n",
    "    ax.set_xlabel(\"Parser\", fontsize=12)\n",
    "    ax.set_ylabel(\"PDF File\", fontsize=12)\n",
    "    plt.xticks(rotation=30, ha='right')\n",
    "    plt.yticks(rotation=0)\n",
    "    plt.tight_layout()\n",
    "    plt.show()\n"
   ]
  },
  {
   "cell_type": "code",
   "execution_count": 48,
   "id": "6becf912",
   "metadata": {},
   "outputs": [
    {
     "data": {
      "image/png": "[encoded data removed]",
      "text/plain": [
       "<Figure size 1000x600 with 2 Axes>"
      ]
     },
     "metadata": {},
     "output_type": "display_data"
    }
   ],
   "source": [
    "plot_heatmap(jaccard_similarity)"
   ]
  },
  {
   "cell_type": "markdown",
   "id": "bf123146",
   "metadata": {},
   "source": [
    "## 1. Line Graph - BLEU Score\n",
    "The logic of BLEU score is that the closer the BLEU score is to 1, the better it is. Throughout the majoriity of the line graph, and at the peak of the different lines, pymupdf was the closest to 1 than the other libraries, which means that, from this metric, it was the most accurate."
   ]
  },
  {
   "cell_type": "markdown",
   "id": "9f9572ac",
   "metadata": {},
   "source": [
    "## 2. Levenschtein distance - Cumalitive Density Function\n",
    "The logic of levenschtein distance is that basically the higher the number, the less accurate it is, because the levenschtein distance is the number of operations needed to transform one string into another--in this case, the number of characters that are needed to change the extracted to the original. However, in the Cumalitive Density Function, there is a very significant overlap, and there isn't much distinction between the lines, so there is not a lot of information the graph can give us in terms of the difference in accuracy between the libraries."
   ]
  },
  {
   "cell_type": "markdown",
   "id": "34812cee",
   "metadata": {},
   "source": [
    "## 3. Heatmap - Jaccard Simililarity\n",
    "The logic of Jaccard similiarity is that the higher the similarity, the closer the PDFs are to each other; the value is between 0 and 1. This heatmap shows the distribution of the Jaccard scores. As shown, the colors are almost exactly the same, which means that each of the values for the libraries are almos the same. However, if you look at the numbers themselves, we can see that pymupdf's jaccard scores are higher than the others. Therefore, Jaccard similiarity is telling us that pymupdf is the most accurate. "
   ]
  },
  {
   "cell_type": "markdown",
   "id": "1a652fa9",
   "metadata": {},
   "source": [
    "---"
   ]
  },
  {
   "cell_type": "markdown",
   "id": "0f928145",
   "metadata": {},
   "source": [
    "# Conclusion\n",
    "We looked at three graphs for three metrics to see which pdf parsing library is the most accurate and reliable, and the majority of the graphs showed that pymupdf had the most accurate extractions in comparison to the ground truth. \n",
    "Therefore, we can say that pymupdf is the most accurate and reliable pdf parsing library out of our three options."
   ]
  },
  {
   "cell_type": "markdown",
   "id": "9b82eb3b-24ce-4c1a-88d7-7a2631892a11",
   "metadata": {},
   "source": [
    "---"
   ]
  }
 ],
 "metadata": {
  "kernelspec": {
   "display_name": "Project Chitti",
   "language": "python",
   "name": "python3"
  },
  "language_info": {
   "codemirror_mode": {
    "name": "ipython",
    "version": 3
   },
   "file_extension": ".py",
   "mimetype": "text/x-python",
   "name": "python",
   "nbconvert_exporter": "python",
   "pygments_lexer": "ipython3",
   "version": "3.12.4"
  }
 },
 "nbformat": 4,
 "nbformat_minor": 5
}
